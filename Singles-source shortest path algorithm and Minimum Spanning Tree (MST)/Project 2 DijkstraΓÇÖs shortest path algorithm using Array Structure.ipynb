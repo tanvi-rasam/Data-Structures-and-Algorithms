{
 "cells": [
  {
   "cell_type": "markdown",
   "metadata": {},
   "source": [
    "# PROJECT 2 : GRAPH ALGORITHMS\n",
    "\n",
    "#### TEAM MEMBERS  :  TANVI RASAM, CHAITANYA DARADE"
   ]
  },
  {
   "cell_type": "markdown",
   "metadata": {},
   "source": [
    "# Source Code For Dijkstra's Algorithm Implementation Using Array"
   ]
  },
  {
   "cell_type": "code",
   "execution_count": 1,
   "metadata": {},
   "outputs": [],
   "source": [
    "import sys \n",
    "from IPython.core.debugger import set_trace\n",
    "  \n",
    "class Graph(): \n",
    "  \n",
    "    def __init__(self, vertices): \n",
    "        self.V = vertices \n",
    "        self.graph = [[0 for column in range(vertices)]  \n",
    "                      for row in range(vertices)] \n",
    "  \n",
    "    def printPath(self, src, parent, j): \n",
    "        #Base Case : If j is source \n",
    "        if parent[j] == 999:\n",
    "            if src == j:\n",
    "                print(chr(j+65),\" \",end = ''),\n",
    "            else:\n",
    "                print(\"UNREACHABLE\",end = ''),\n",
    "            return\n",
    "        self.printPath(src, parent , parent[j]) \n",
    "        print(chr(j+65),\" \",end = ''),\n",
    "  \n",
    "    def printSolution(self, src, dist, parent):\n",
    "        print(\"Vertex \\t\\tDistance from Source\\t\\t\\t  Path\")\n",
    "        for node in range(0,self.V): \n",
    "            print(\"\\n%s --> %s \\t\\t%d \\t\\t\\t\\t\" % (chr(src+65), chr(node+65), dist[node]),\" \", end = ''),\n",
    "            self.printPath(src,parent,node)\n",
    "            \n",
    "    # A utility function to find the vertex with  \n",
    "    # minimum distance value, from the set of vertices  \n",
    "    # not yet included in shortest path tree \n",
    "    def minDistance(self, dist, sptSet):\n",
    "        min_index = -1\n",
    "        \n",
    "        # Initilaize minimum distance for next node \n",
    "        min = sys.maxsize \n",
    "        \n",
    "        # Search not nearest vertex not in the  \n",
    "        # shortest path tree \n",
    "        for v in range(self.V): \n",
    "            if dist[v] < min and sptSet[v] == False: \n",
    "                min = dist[v] \n",
    "                min_index = v \n",
    "                     \n",
    "        return min_index\n",
    "\n",
    "    # Funtion that implements Dijkstra's single source  \n",
    "    # shortest path algorithm for a graph represented  \n",
    "    # using adjacency matrix representation \n",
    "    def dijkstra(self, src):\n",
    "        src = ord(src.upper())-65\n",
    "        dist = [sys.maxsize] * self.V \n",
    "        parent = [999] * self.V\n",
    "        dist[src] = 0\n",
    "        sptSet = [False] * self.V \n",
    "  \n",
    "        parent[src] = 999 # First node is always the root of\n",
    "        for cout in range(self.V): \n",
    "  \n",
    "            # Pick the minimum distance vertex from  \n",
    "            # the set of vertices not yet processed.  \n",
    "            # u is always equal to src in first iteration \n",
    "            u = self.minDistance(dist, sptSet) \n",
    "              \n",
    "            if(u==-1):\n",
    "                break\n",
    "            # Put the minimum distance vertex in the  \n",
    "            # shotest path tree \n",
    "            sptSet[u] = True\n",
    "  \n",
    "            # Update dist value of the adjacent vertices  \n",
    "            # of the picked vertex only if the current  \n",
    "            # distance is greater than new distance and \n",
    "            # the vertex in not in the shotest path tree \n",
    "            for v in range(self.V): \n",
    "                if self.graph[u][v] > 0 and sptSet[v] == False and dist[v] > dist[u] + self.graph[u][v]: \n",
    "                    dist[v] = dist[u] + self.graph[u][v] \n",
    "                    parent[v] = u\n",
    "  \n",
    "        self.printSolution(src,dist,parent)"
   ]
  },
  {
   "cell_type": "markdown",
   "metadata": {},
   "source": [
    "# Reading Input File-1(Directed) and Creating Adjacency Matrix"
   ]
  },
  {
   "cell_type": "code",
   "execution_count": 2,
   "metadata": {},
   "outputs": [],
   "source": [
    "file = open(\"Input_File_Dir_0.rtf\", 'r')"
   ]
  },
  {
   "cell_type": "code",
   "execution_count": 3,
   "metadata": {},
   "outputs": [],
   "source": [
    "Dir_graph = 0\n",
    "lines = file.readlines()\n",
    "list1 = lines[0].split()\n",
    "if list1[2] == 'D':\n",
    "    Dir_graph = 1"
   ]
  },
  {
   "cell_type": "code",
   "execution_count": 4,
   "metadata": {},
   "outputs": [
    {
     "name": "stdout",
     "output_type": "stream",
     "text": [
      "9\n"
     ]
    }
   ],
   "source": [
    "g_size = lines[0][0].split()\n",
    "print(int(lines[0][0].split()[0]))"
   ]
  },
  {
   "cell_type": "code",
   "execution_count": 5,
   "metadata": {},
   "outputs": [
    {
     "name": "stdout",
     "output_type": "stream",
     "text": [
      "[[0. 0. 0. 0. 0. 0. 0. 0. 0.]\n",
      " [0. 0. 0. 0. 0. 0. 0. 0. 0.]\n",
      " [0. 0. 0. 0. 0. 0. 0. 0. 0.]\n",
      " [0. 0. 0. 0. 0. 0. 0. 0. 0.]\n",
      " [0. 0. 0. 0. 0. 0. 0. 0. 0.]\n",
      " [0. 0. 0. 0. 0. 0. 0. 0. 0.]\n",
      " [0. 0. 0. 0. 0. 0. 0. 0. 0.]\n",
      " [0. 0. 0. 0. 0. 0. 0. 0. 0.]\n",
      " [0. 0. 0. 0. 0. 0. 0. 0. 0.]]\n"
     ]
    }
   ],
   "source": [
    "import numpy as np\n",
    "\n",
    "g_size = int(lines[0][0].split()[0])\n",
    "g = Graph(g_size)\n",
    "\n",
    "g.graph = np.zeros((g_size,g_size))\n",
    "\n",
    "print(g.graph)"
   ]
  },
  {
   "cell_type": "code",
   "execution_count": 6,
   "metadata": {},
   "outputs": [],
   "source": [
    "if Dir_graph == 1:\n",
    "    for i in range(1,len(lines)):\n",
    "        line = lines[i]\n",
    "        i,j,val = line.split()\n",
    "        g.graph[ord(i.upper())-65][ord(j.upper())-65]=val\n",
    "else :\n",
    "    for i in range(1,len(lines)):\n",
    "        line = lines[i]\n",
    "        i,j,val = line.split()\n",
    "        g.graph[ord(i.upper())-65][ord(j.upper())-65]=val\n",
    "        g.graph[ord(j.upper())-65][ord(i.upper())-65]=val"
   ]
  },
  {
   "cell_type": "code",
   "execution_count": 7,
   "metadata": {},
   "outputs": [
    {
     "name": "stdout",
     "output_type": "stream",
     "text": [
      "[[0. 1. 2. 0. 4. 0. 0. 0. 0.]\n",
      " [0. 0. 1. 3. 2. 0. 0. 0. 0.]\n",
      " [0. 0. 0. 1. 2. 0. 0. 0. 0.]\n",
      " [0. 0. 0. 0. 4. 3. 0. 0. 0.]\n",
      " [0. 0. 0. 0. 0. 3. 0. 0. 0.]\n",
      " [0. 0. 0. 0. 0. 0. 5. 0. 4.]\n",
      " [0. 0. 0. 0. 0. 0. 0. 4. 6.]\n",
      " [0. 0. 0. 0. 0. 0. 0. 0. 0.]\n",
      " [0. 0. 0. 0. 0. 0. 0. 0. 0.]]\n"
     ]
    }
   ],
   "source": [
    "print(g.graph)"
   ]
  },
  {
   "cell_type": "markdown",
   "metadata": {},
   "source": [
    "# Call Dijkstra's Algorithm from Source Node 'A', 'B', 'C'"
   ]
  },
  {
   "cell_type": "code",
   "execution_count": 8,
   "metadata": {},
   "outputs": [
    {
     "name": "stdout",
     "output_type": "stream",
     "text": [
      "Vertex \t\tDistance from Source\t\t\t  Path\n",
      "\n",
      "A --> A \t\t0 \t\t\t\t  A  \n",
      "A --> B \t\t1 \t\t\t\t  A  B  \n",
      "A --> C \t\t2 \t\t\t\t  A  C  \n",
      "A --> D \t\t3 \t\t\t\t  A  C  D  \n",
      "A --> E \t\t3 \t\t\t\t  A  B  E  \n",
      "A --> F \t\t6 \t\t\t\t  A  C  D  F  \n",
      "A --> G \t\t11 \t\t\t\t  A  C  D  F  G  \n",
      "A --> H \t\t15 \t\t\t\t  A  C  D  F  G  H  \n",
      "A --> I \t\t10 \t\t\t\t  A  C  D  F  I  "
     ]
    }
   ],
   "source": [
    "g.dijkstra('A');"
   ]
  },
  {
   "cell_type": "code",
   "execution_count": 9,
   "metadata": {},
   "outputs": [
    {
     "name": "stdout",
     "output_type": "stream",
     "text": [
      "Vertex \t\tDistance from Source\t\t\t  Path\n",
      "\n",
      "B --> A \t\t9223372036854775807 \t\t\t\t  UNREACHABLE\n",
      "B --> B \t\t0 \t\t\t\t  B  \n",
      "B --> C \t\t1 \t\t\t\t  B  C  \n",
      "B --> D \t\t2 \t\t\t\t  B  C  D  \n",
      "B --> E \t\t2 \t\t\t\t  B  E  \n",
      "B --> F \t\t5 \t\t\t\t  B  C  D  F  \n",
      "B --> G \t\t10 \t\t\t\t  B  C  D  F  G  \n",
      "B --> H \t\t14 \t\t\t\t  B  C  D  F  G  H  \n",
      "B --> I \t\t9 \t\t\t\t  B  C  D  F  I  "
     ]
    }
   ],
   "source": [
    "g.dijkstra('B');"
   ]
  },
  {
   "cell_type": "code",
   "execution_count": 10,
   "metadata": {},
   "outputs": [
    {
     "name": "stdout",
     "output_type": "stream",
     "text": [
      "Vertex \t\tDistance from Source\t\t\t  Path\n",
      "\n",
      "C --> A \t\t9223372036854775807 \t\t\t\t  UNREACHABLE\n",
      "C --> B \t\t9223372036854775807 \t\t\t\t  UNREACHABLE\n",
      "C --> C \t\t0 \t\t\t\t  C  \n",
      "C --> D \t\t1 \t\t\t\t  C  D  \n",
      "C --> E \t\t2 \t\t\t\t  C  E  \n",
      "C --> F \t\t4 \t\t\t\t  C  D  F  \n",
      "C --> G \t\t9 \t\t\t\t  C  D  F  G  \n",
      "C --> H \t\t13 \t\t\t\t  C  D  F  G  H  \n",
      "C --> I \t\t8 \t\t\t\t  C  D  F  I  "
     ]
    }
   ],
   "source": [
    "g.dijkstra('C');"
   ]
  },
  {
   "cell_type": "markdown",
   "metadata": {},
   "source": [
    "# Reading Input File-1(UnDirected) and Creating Adjacency Matrix "
   ]
  },
  {
   "cell_type": "code",
   "execution_count": 11,
   "metadata": {},
   "outputs": [],
   "source": [
    "file = open(\"Input_File_UnDir_0.rtf\", 'r')"
   ]
  },
  {
   "cell_type": "code",
   "execution_count": 12,
   "metadata": {},
   "outputs": [],
   "source": [
    "Dir_graph = 0\n",
    "lines = file.readlines()\n",
    "list1 = lines[0].split()\n",
    "if list1[2] == 'D':\n",
    "    Dir_graph = 1"
   ]
  },
  {
   "cell_type": "code",
   "execution_count": 13,
   "metadata": {},
   "outputs": [
    {
     "name": "stdout",
     "output_type": "stream",
     "text": [
      "9\n"
     ]
    }
   ],
   "source": [
    "g_size = lines[0][0].split()\n",
    "print(int(lines[0][0].split()[0]))"
   ]
  },
  {
   "cell_type": "code",
   "execution_count": 14,
   "metadata": {},
   "outputs": [
    {
     "name": "stdout",
     "output_type": "stream",
     "text": [
      "[[0. 0. 0. 0. 0. 0. 0. 0. 0.]\n",
      " [0. 0. 0. 0. 0. 0. 0. 0. 0.]\n",
      " [0. 0. 0. 0. 0. 0. 0. 0. 0.]\n",
      " [0. 0. 0. 0. 0. 0. 0. 0. 0.]\n",
      " [0. 0. 0. 0. 0. 0. 0. 0. 0.]\n",
      " [0. 0. 0. 0. 0. 0. 0. 0. 0.]\n",
      " [0. 0. 0. 0. 0. 0. 0. 0. 0.]\n",
      " [0. 0. 0. 0. 0. 0. 0. 0. 0.]\n",
      " [0. 0. 0. 0. 0. 0. 0. 0. 0.]]\n"
     ]
    }
   ],
   "source": [
    "import numpy as np\n",
    "\n",
    "g_size = int(lines[0][0].split()[0])\n",
    "g = Graph(g_size)\n",
    "\n",
    "g.graph = np.zeros((g_size,g_size))\n",
    "\n",
    "print(g.graph)"
   ]
  },
  {
   "cell_type": "code",
   "execution_count": 15,
   "metadata": {},
   "outputs": [],
   "source": [
    "if Dir_graph == 1:\n",
    "    for i in range(1,len(lines)):\n",
    "        line = lines[i]\n",
    "        i,j,val = line.split()\n",
    "        g.graph[ord(i.upper())-65][ord(j.upper())-65]=val\n",
    "else :\n",
    "    for i in range(1,len(lines)):\n",
    "        line = lines[i]\n",
    "        i,j,val = line.split()\n",
    "        g.graph[ord(i.upper())-65][ord(j.upper())-65]=val\n",
    "        g.graph[ord(j.upper())-65][ord(i.upper())-65]=val"
   ]
  },
  {
   "cell_type": "code",
   "execution_count": 16,
   "metadata": {},
   "outputs": [
    {
     "name": "stdout",
     "output_type": "stream",
     "text": [
      "[[0. 1. 2. 0. 0. 0. 0. 0. 0.]\n",
      " [1. 0. 1. 3. 2. 0. 0. 0. 0.]\n",
      " [2. 1. 0. 1. 2. 0. 0. 0. 0.]\n",
      " [0. 3. 1. 0. 4. 3. 0. 0. 0.]\n",
      " [0. 2. 2. 4. 0. 3. 0. 0. 0.]\n",
      " [0. 0. 0. 3. 3. 0. 5. 0. 4.]\n",
      " [0. 0. 0. 0. 0. 5. 0. 4. 6.]\n",
      " [0. 0. 0. 0. 0. 0. 4. 0. 0.]\n",
      " [0. 0. 0. 0. 0. 4. 6. 0. 0.]]\n"
     ]
    }
   ],
   "source": [
    "print(g.graph)"
   ]
  },
  {
   "cell_type": "markdown",
   "metadata": {},
   "source": [
    "# Call Dijkstra's Algorithm from Source Node 'A', 'B', 'C'"
   ]
  },
  {
   "cell_type": "code",
   "execution_count": 17,
   "metadata": {},
   "outputs": [
    {
     "name": "stdout",
     "output_type": "stream",
     "text": [
      "Vertex \t\tDistance from Source\t\t\t  Path\n",
      "\n",
      "A --> A \t\t0 \t\t\t\t  A  \n",
      "A --> B \t\t1 \t\t\t\t  A  B  \n",
      "A --> C \t\t2 \t\t\t\t  A  C  \n",
      "A --> D \t\t3 \t\t\t\t  A  C  D  \n",
      "A --> E \t\t3 \t\t\t\t  A  B  E  \n",
      "A --> F \t\t6 \t\t\t\t  A  C  D  F  \n",
      "A --> G \t\t11 \t\t\t\t  A  C  D  F  G  \n",
      "A --> H \t\t15 \t\t\t\t  A  C  D  F  G  H  \n",
      "A --> I \t\t10 \t\t\t\t  A  C  D  F  I  "
     ]
    }
   ],
   "source": [
    "g.dijkstra('A');"
   ]
  },
  {
   "cell_type": "code",
   "execution_count": 18,
   "metadata": {},
   "outputs": [
    {
     "name": "stdout",
     "output_type": "stream",
     "text": [
      "Vertex \t\tDistance from Source\t\t\t  Path\n",
      "\n",
      "B --> A \t\t1 \t\t\t\t  B  A  \n",
      "B --> B \t\t0 \t\t\t\t  B  \n",
      "B --> C \t\t1 \t\t\t\t  B  C  \n",
      "B --> D \t\t2 \t\t\t\t  B  C  D  \n",
      "B --> E \t\t2 \t\t\t\t  B  E  \n",
      "B --> F \t\t5 \t\t\t\t  B  C  D  F  \n",
      "B --> G \t\t10 \t\t\t\t  B  C  D  F  G  \n",
      "B --> H \t\t14 \t\t\t\t  B  C  D  F  G  H  \n",
      "B --> I \t\t9 \t\t\t\t  B  C  D  F  I  "
     ]
    }
   ],
   "source": [
    "g.dijkstra('B');"
   ]
  },
  {
   "cell_type": "code",
   "execution_count": 19,
   "metadata": {},
   "outputs": [
    {
     "name": "stdout",
     "output_type": "stream",
     "text": [
      "Vertex \t\tDistance from Source\t\t\t  Path\n",
      "\n",
      "C --> A \t\t2 \t\t\t\t  C  A  \n",
      "C --> B \t\t1 \t\t\t\t  C  B  \n",
      "C --> C \t\t0 \t\t\t\t  C  \n",
      "C --> D \t\t1 \t\t\t\t  C  D  \n",
      "C --> E \t\t2 \t\t\t\t  C  E  \n",
      "C --> F \t\t4 \t\t\t\t  C  D  F  \n",
      "C --> G \t\t9 \t\t\t\t  C  D  F  G  \n",
      "C --> H \t\t13 \t\t\t\t  C  D  F  G  H  \n",
      "C --> I \t\t8 \t\t\t\t  C  D  F  I  "
     ]
    }
   ],
   "source": [
    "g.dijkstra('C');"
   ]
  },
  {
   "cell_type": "markdown",
   "metadata": {},
   "source": [
    "# Reading Input File-2(Directed) and Creating Adjacency Matrix"
   ]
  },
  {
   "cell_type": "code",
   "execution_count": 20,
   "metadata": {},
   "outputs": [],
   "source": [
    "file = open(\"Input_File_Dir_1.rtf\", 'r')"
   ]
  },
  {
   "cell_type": "code",
   "execution_count": 21,
   "metadata": {},
   "outputs": [],
   "source": [
    "Dir_graph = 0\n",
    "lines = file.readlines()\n",
    "list1 = lines[0].split()\n",
    "if list1[2] == 'D':\n",
    "    Dir_graph = 1"
   ]
  },
  {
   "cell_type": "code",
   "execution_count": 22,
   "metadata": {},
   "outputs": [
    {
     "name": "stdout",
     "output_type": "stream",
     "text": [
      "8\n"
     ]
    }
   ],
   "source": [
    "g_size = lines[0][0].split()\n",
    "print(int(lines[0][0].split()[0]))"
   ]
  },
  {
   "cell_type": "code",
   "execution_count": 23,
   "metadata": {},
   "outputs": [
    {
     "name": "stdout",
     "output_type": "stream",
     "text": [
      "[[0. 0. 0. 0. 0. 0. 0. 0.]\n",
      " [0. 0. 0. 0. 0. 0. 0. 0.]\n",
      " [0. 0. 0. 0. 0. 0. 0. 0.]\n",
      " [0. 0. 0. 0. 0. 0. 0. 0.]\n",
      " [0. 0. 0. 0. 0. 0. 0. 0.]\n",
      " [0. 0. 0. 0. 0. 0. 0. 0.]\n",
      " [0. 0. 0. 0. 0. 0. 0. 0.]\n",
      " [0. 0. 0. 0. 0. 0. 0. 0.]]\n"
     ]
    }
   ],
   "source": [
    "import numpy as np\n",
    "\n",
    "g_size = int(lines[0][0].split()[0])\n",
    "g = Graph(g_size)\n",
    "\n",
    "g.graph = np.zeros((g_size,g_size))\n",
    "\n",
    "print(g.graph)"
   ]
  },
  {
   "cell_type": "code",
   "execution_count": 24,
   "metadata": {},
   "outputs": [],
   "source": [
    "if Dir_graph == 1:\n",
    "    for i in range(1,len(lines)):\n",
    "        line = lines[i]\n",
    "        i,j,val = line.split()\n",
    "        g.graph[ord(i.upper())-65][ord(j.upper())-65]=val\n",
    "else :\n",
    "    for i in range(1,len(lines)):\n",
    "        line = lines[i]\n",
    "        i,j,val = line.split()\n",
    "        g.graph[ord(i.upper())-65][ord(j.upper())-65]=val\n",
    "        g.graph[ord(j.upper())-65][ord(i.upper())-65]=val"
   ]
  },
  {
   "cell_type": "code",
   "execution_count": 25,
   "metadata": {},
   "outputs": [
    {
     "name": "stdout",
     "output_type": "stream",
     "text": [
      "[[ 0.  4.  3.  0.  7.  0.  0.  0.]\n",
      " [ 0.  0.  6.  5.  0. 15.  0.  0.]\n",
      " [ 0.  0.  0. 11.  8.  0.  0.  0.]\n",
      " [ 0.  0.  0.  0.  2.  2. 10.  0.]\n",
      " [ 0.  0.  0.  0.  0.  0.  5. 20.]\n",
      " [ 0.  0.  0.  0.  0.  0.  3.  0.]\n",
      " [ 0.  0.  0.  0.  0.  0.  0. 10.]\n",
      " [ 0.  0.  0.  0.  0.  0.  0.  0.]]\n"
     ]
    }
   ],
   "source": [
    "print(g.graph)"
   ]
  },
  {
   "cell_type": "markdown",
   "metadata": {},
   "source": [
    "# Call Dijkstra's Algorithm from Source Node 'A', 'C', 'E'"
   ]
  },
  {
   "cell_type": "code",
   "execution_count": 26,
   "metadata": {},
   "outputs": [
    {
     "name": "stdout",
     "output_type": "stream",
     "text": [
      "Vertex \t\tDistance from Source\t\t\t  Path\n",
      "\n",
      "A --> A \t\t0 \t\t\t\t  A  \n",
      "A --> B \t\t4 \t\t\t\t  A  B  \n",
      "A --> C \t\t3 \t\t\t\t  A  C  \n",
      "A --> D \t\t9 \t\t\t\t  A  B  D  \n",
      "A --> E \t\t7 \t\t\t\t  A  E  \n",
      "A --> F \t\t11 \t\t\t\t  A  B  D  F  \n",
      "A --> G \t\t12 \t\t\t\t  A  E  G  \n",
      "A --> H \t\t22 \t\t\t\t  A  E  G  H  "
     ]
    }
   ],
   "source": [
    "g.dijkstra('A');"
   ]
  },
  {
   "cell_type": "code",
   "execution_count": 27,
   "metadata": {},
   "outputs": [
    {
     "name": "stdout",
     "output_type": "stream",
     "text": [
      "Vertex \t\tDistance from Source\t\t\t  Path\n",
      "\n",
      "C --> A \t\t9223372036854775807 \t\t\t\t  UNREACHABLE\n",
      "C --> B \t\t9223372036854775807 \t\t\t\t  UNREACHABLE\n",
      "C --> C \t\t0 \t\t\t\t  C  \n",
      "C --> D \t\t11 \t\t\t\t  C  D  \n",
      "C --> E \t\t8 \t\t\t\t  C  E  \n",
      "C --> F \t\t13 \t\t\t\t  C  D  F  \n",
      "C --> G \t\t13 \t\t\t\t  C  E  G  \n",
      "C --> H \t\t23 \t\t\t\t  C  E  G  H  "
     ]
    }
   ],
   "source": [
    "g.dijkstra('C');"
   ]
  },
  {
   "cell_type": "code",
   "execution_count": 28,
   "metadata": {},
   "outputs": [
    {
     "name": "stdout",
     "output_type": "stream",
     "text": [
      "Vertex \t\tDistance from Source\t\t\t  Path\n",
      "\n",
      "E --> A \t\t9223372036854775807 \t\t\t\t  UNREACHABLE\n",
      "E --> B \t\t9223372036854775807 \t\t\t\t  UNREACHABLE\n",
      "E --> C \t\t9223372036854775807 \t\t\t\t  UNREACHABLE\n",
      "E --> D \t\t9223372036854775807 \t\t\t\t  UNREACHABLE\n",
      "E --> E \t\t0 \t\t\t\t  E  \n",
      "E --> F \t\t9223372036854775807 \t\t\t\t  UNREACHABLE\n",
      "E --> G \t\t5 \t\t\t\t  E  G  \n",
      "E --> H \t\t15 \t\t\t\t  E  G  H  "
     ]
    }
   ],
   "source": [
    "g.dijkstra('E');"
   ]
  },
  {
   "cell_type": "markdown",
   "metadata": {},
   "source": [
    "# Reading Input File-2(UnDirected) and Creating Adjacency Matrix"
   ]
  },
  {
   "cell_type": "code",
   "execution_count": 29,
   "metadata": {},
   "outputs": [],
   "source": [
    "file = open(\"Input_File_UnDir_1.rtf\", 'r')"
   ]
  },
  {
   "cell_type": "code",
   "execution_count": 30,
   "metadata": {},
   "outputs": [],
   "source": [
    "Dir_graph = 0\n",
    "lines = file.readlines()\n",
    "list1 = lines[0].split()\n",
    "if list1[2] == 'D':\n",
    "    Dir_graph = 1"
   ]
  },
  {
   "cell_type": "code",
   "execution_count": 31,
   "metadata": {},
   "outputs": [
    {
     "name": "stdout",
     "output_type": "stream",
     "text": [
      "7\n"
     ]
    }
   ],
   "source": [
    "g_size = lines[0][0].split()\n",
    "print(int(lines[0][0].split()[0]))"
   ]
  },
  {
   "cell_type": "code",
   "execution_count": 32,
   "metadata": {},
   "outputs": [
    {
     "name": "stdout",
     "output_type": "stream",
     "text": [
      "[[0. 0. 0. 0. 0. 0. 0.]\n",
      " [0. 0. 0. 0. 0. 0. 0.]\n",
      " [0. 0. 0. 0. 0. 0. 0.]\n",
      " [0. 0. 0. 0. 0. 0. 0.]\n",
      " [0. 0. 0. 0. 0. 0. 0.]\n",
      " [0. 0. 0. 0. 0. 0. 0.]\n",
      " [0. 0. 0. 0. 0. 0. 0.]]\n"
     ]
    }
   ],
   "source": [
    "import numpy as np\n",
    "\n",
    "g_size = int(lines[0][0].split()[0])\n",
    "g = Graph(g_size)\n",
    "\n",
    "g.graph = np.zeros((g_size,g_size))\n",
    "\n",
    "print(g.graph)"
   ]
  },
  {
   "cell_type": "code",
   "execution_count": 33,
   "metadata": {},
   "outputs": [],
   "source": [
    "if Dir_graph == 1:\n",
    "    for i in range(1,len(lines)):\n",
    "        line = lines[i]\n",
    "        i,j,val = line.split()\n",
    "        g.graph[ord(i.upper())-65][ord(j.upper())-65]=val\n",
    "else :\n",
    "    for i in range(1,len(lines)):\n",
    "        line = lines[i]\n",
    "        i,j,val = line.split()\n",
    "        g.graph[ord(i.upper())-65][ord(j.upper())-65]=val\n",
    "        g.graph[ord(j.upper())-65][ord(i.upper())-65]=val"
   ]
  },
  {
   "cell_type": "code",
   "execution_count": 34,
   "metadata": {},
   "outputs": [
    {
     "name": "stdout",
     "output_type": "stream",
     "text": [
      "[[ 0.  4.  3.  0.  7.  0.  0.]\n",
      " [ 4.  0.  6.  5.  0.  0.  0.]\n",
      " [ 3.  6.  0. 11.  8.  0.  0.]\n",
      " [ 0.  5. 11.  0.  2.  2. 10.]\n",
      " [ 7.  0.  8.  2.  0.  0.  5.]\n",
      " [ 0.  0.  0.  2.  0.  0.  3.]\n",
      " [ 0.  0.  0. 10.  5.  3.  0.]]\n"
     ]
    }
   ],
   "source": [
    "print(g.graph)"
   ]
  },
  {
   "cell_type": "markdown",
   "metadata": {},
   "source": [
    "## Call Dijkstra's Algorithm from Source Node 'A', 'C', 'E'"
   ]
  },
  {
   "cell_type": "code",
   "execution_count": 35,
   "metadata": {},
   "outputs": [
    {
     "name": "stdout",
     "output_type": "stream",
     "text": [
      "Vertex \t\tDistance from Source\t\t\t  Path\n",
      "\n",
      "A --> A \t\t0 \t\t\t\t  A  \n",
      "A --> B \t\t4 \t\t\t\t  A  B  \n",
      "A --> C \t\t3 \t\t\t\t  A  C  \n",
      "A --> D \t\t9 \t\t\t\t  A  B  D  \n",
      "A --> E \t\t7 \t\t\t\t  A  E  \n",
      "A --> F \t\t11 \t\t\t\t  A  B  D  F  \n",
      "A --> G \t\t12 \t\t\t\t  A  E  G  "
     ]
    }
   ],
   "source": [
    "g.dijkstra('A');"
   ]
  },
  {
   "cell_type": "code",
   "execution_count": 36,
   "metadata": {},
   "outputs": [
    {
     "name": "stdout",
     "output_type": "stream",
     "text": [
      "Vertex \t\tDistance from Source\t\t\t  Path\n",
      "\n",
      "C --> A \t\t3 \t\t\t\t  C  A  \n",
      "C --> B \t\t6 \t\t\t\t  C  B  \n",
      "C --> C \t\t0 \t\t\t\t  C  \n",
      "C --> D \t\t10 \t\t\t\t  C  E  D  \n",
      "C --> E \t\t8 \t\t\t\t  C  E  \n",
      "C --> F \t\t12 \t\t\t\t  C  E  D  F  \n",
      "C --> G \t\t13 \t\t\t\t  C  E  G  "
     ]
    }
   ],
   "source": [
    "g.dijkstra('C');"
   ]
  },
  {
   "cell_type": "code",
   "execution_count": 37,
   "metadata": {},
   "outputs": [
    {
     "name": "stdout",
     "output_type": "stream",
     "text": [
      "Vertex \t\tDistance from Source\t\t\t  Path\n",
      "\n",
      "E --> A \t\t7 \t\t\t\t  E  A  \n",
      "E --> B \t\t7 \t\t\t\t  E  D  B  \n",
      "E --> C \t\t8 \t\t\t\t  E  C  \n",
      "E --> D \t\t2 \t\t\t\t  E  D  \n",
      "E --> E \t\t0 \t\t\t\t  E  \n",
      "E --> F \t\t4 \t\t\t\t  E  D  F  \n",
      "E --> G \t\t5 \t\t\t\t  E  G  "
     ]
    }
   ],
   "source": [
    "g.dijkstra('E');"
   ]
  },
  {
   "cell_type": "markdown",
   "metadata": {},
   "source": [
    "# Reading Input File-3(Directed) and Creating Adjacency Matrix"
   ]
  },
  {
   "cell_type": "code",
   "execution_count": 38,
   "metadata": {},
   "outputs": [],
   "source": [
    "file = open(\"Input_File_Dir_2.rtf\", 'r')"
   ]
  },
  {
   "cell_type": "code",
   "execution_count": 39,
   "metadata": {},
   "outputs": [],
   "source": [
    "Dir_graph = 0\n",
    "lines = file.readlines()\n",
    "list1 = lines[0].split()\n",
    "if list1[2] == 'D':\n",
    "    Dir_graph = 1"
   ]
  },
  {
   "cell_type": "code",
   "execution_count": 40,
   "metadata": {},
   "outputs": [
    {
     "name": "stdout",
     "output_type": "stream",
     "text": [
      "9\n"
     ]
    }
   ],
   "source": [
    "g_size = lines[0][0].split()\n",
    "print(int(lines[0][0].split()[0]))"
   ]
  },
  {
   "cell_type": "code",
   "execution_count": 41,
   "metadata": {},
   "outputs": [
    {
     "name": "stdout",
     "output_type": "stream",
     "text": [
      "[[0. 0. 0. 0. 0. 0. 0. 0. 0.]\n",
      " [0. 0. 0. 0. 0. 0. 0. 0. 0.]\n",
      " [0. 0. 0. 0. 0. 0. 0. 0. 0.]\n",
      " [0. 0. 0. 0. 0. 0. 0. 0. 0.]\n",
      " [0. 0. 0. 0. 0. 0. 0. 0. 0.]\n",
      " [0. 0. 0. 0. 0. 0. 0. 0. 0.]\n",
      " [0. 0. 0. 0. 0. 0. 0. 0. 0.]\n",
      " [0. 0. 0. 0. 0. 0. 0. 0. 0.]\n",
      " [0. 0. 0. 0. 0. 0. 0. 0. 0.]]\n"
     ]
    }
   ],
   "source": [
    "import numpy as np\n",
    "\n",
    "g_size = int(lines[0][0].split()[0])\n",
    "g = Graph(g_size)\n",
    "\n",
    "g.graph = np.zeros((g_size,g_size))\n",
    "\n",
    "print(g.graph)"
   ]
  },
  {
   "cell_type": "code",
   "execution_count": 42,
   "metadata": {},
   "outputs": [],
   "source": [
    "if Dir_graph == 1:\n",
    "    for i in range(1,len(lines)):\n",
    "        line = lines[i]\n",
    "        i,j,val = line.split()\n",
    "        g.graph[ord(i.upper())-65][ord(j.upper())-65]=val\n",
    "else :\n",
    "    for i in range(1,len(lines)):\n",
    "        line = lines[i]\n",
    "        i,j,val = line.split()\n",
    "        g.graph[ord(i.upper())-65][ord(j.upper())-65]=val\n",
    "        g.graph[ord(j.upper())-65][ord(i.upper())-65]=val"
   ]
  },
  {
   "cell_type": "code",
   "execution_count": 43,
   "metadata": {},
   "outputs": [
    {
     "name": "stdout",
     "output_type": "stream",
     "text": [
      "[[ 0.  4.  0.  0.  0.  0.  0.  8.  0.]\n",
      " [ 0.  0.  8.  0.  0.  0.  0. 11.  0.]\n",
      " [ 0.  0.  0.  7.  0.  4.  0.  0.  2.]\n",
      " [ 0.  0.  0.  0.  9. 14. 16.  0.  0.]\n",
      " [ 0.  0.  0.  0.  0. 10.  0.  0.  0.]\n",
      " [ 0.  0.  0.  0.  0.  0.  2.  0.  0.]\n",
      " [ 0.  0.  0.  0.  0.  0.  0.  1.  6.]\n",
      " [ 0.  0.  0.  0.  0.  0.  0.  0.  7.]\n",
      " [ 0.  0.  0.  0.  0.  0.  0.  0.  0.]]\n"
     ]
    }
   ],
   "source": [
    "print(g.graph)"
   ]
  },
  {
   "cell_type": "markdown",
   "metadata": {},
   "source": [
    "# Call Dijkstra's Algorithm from Source Node 'A', 'D', 'F'"
   ]
  },
  {
   "cell_type": "code",
   "execution_count": 44,
   "metadata": {},
   "outputs": [
    {
     "name": "stdout",
     "output_type": "stream",
     "text": [
      "Vertex \t\tDistance from Source\t\t\t  Path\n",
      "\n",
      "A --> A \t\t0 \t\t\t\t  A  \n",
      "A --> B \t\t4 \t\t\t\t  A  B  \n",
      "A --> C \t\t12 \t\t\t\t  A  B  C  \n",
      "A --> D \t\t19 \t\t\t\t  A  B  C  D  \n",
      "A --> E \t\t28 \t\t\t\t  A  B  C  D  E  \n",
      "A --> F \t\t16 \t\t\t\t  A  B  C  F  \n",
      "A --> G \t\t18 \t\t\t\t  A  B  C  F  G  \n",
      "A --> H \t\t8 \t\t\t\t  A  H  \n",
      "A --> I \t\t14 \t\t\t\t  A  B  C  I  "
     ]
    }
   ],
   "source": [
    "g.dijkstra('A');"
   ]
  },
  {
   "cell_type": "code",
   "execution_count": 45,
   "metadata": {},
   "outputs": [
    {
     "name": "stdout",
     "output_type": "stream",
     "text": [
      "Vertex \t\tDistance from Source\t\t\t  Path\n",
      "\n",
      "D --> A \t\t9223372036854775807 \t\t\t\t  UNREACHABLE\n",
      "D --> B \t\t9223372036854775807 \t\t\t\t  UNREACHABLE\n",
      "D --> C \t\t9223372036854775807 \t\t\t\t  UNREACHABLE\n",
      "D --> D \t\t0 \t\t\t\t  D  \n",
      "D --> E \t\t9 \t\t\t\t  D  E  \n",
      "D --> F \t\t14 \t\t\t\t  D  F  \n",
      "D --> G \t\t16 \t\t\t\t  D  G  \n",
      "D --> H \t\t17 \t\t\t\t  D  G  H  \n",
      "D --> I \t\t22 \t\t\t\t  D  G  I  "
     ]
    }
   ],
   "source": [
    "g.dijkstra('D');"
   ]
  },
  {
   "cell_type": "code",
   "execution_count": 46,
   "metadata": {},
   "outputs": [
    {
     "name": "stdout",
     "output_type": "stream",
     "text": [
      "Vertex \t\tDistance from Source\t\t\t  Path\n",
      "\n",
      "F --> A \t\t9223372036854775807 \t\t\t\t  UNREACHABLE\n",
      "F --> B \t\t9223372036854775807 \t\t\t\t  UNREACHABLE\n",
      "F --> C \t\t9223372036854775807 \t\t\t\t  UNREACHABLE\n",
      "F --> D \t\t9223372036854775807 \t\t\t\t  UNREACHABLE\n",
      "F --> E \t\t9223372036854775807 \t\t\t\t  UNREACHABLE\n",
      "F --> F \t\t0 \t\t\t\t  F  \n",
      "F --> G \t\t2 \t\t\t\t  F  G  \n",
      "F --> H \t\t3 \t\t\t\t  F  G  H  \n",
      "F --> I \t\t8 \t\t\t\t  F  G  I  "
     ]
    }
   ],
   "source": [
    "g.dijkstra('F');"
   ]
  },
  {
   "cell_type": "markdown",
   "metadata": {},
   "source": [
    "# Reading Input File-3(UnDirected) and Creating Adjacency Matrix"
   ]
  },
  {
   "cell_type": "code",
   "execution_count": 47,
   "metadata": {},
   "outputs": [],
   "source": [
    "file = open(\"Input_File_UnDir_2.rtf\", 'r')"
   ]
  },
  {
   "cell_type": "code",
   "execution_count": 48,
   "metadata": {},
   "outputs": [],
   "source": [
    "Dir_graph = 0\n",
    "lines = file.readlines()\n",
    "list1 = lines[0].split()\n",
    "if list1[2] == 'D':\n",
    "    Dir_graph = 1"
   ]
  },
  {
   "cell_type": "code",
   "execution_count": 49,
   "metadata": {},
   "outputs": [
    {
     "name": "stdout",
     "output_type": "stream",
     "text": [
      "9\n"
     ]
    }
   ],
   "source": [
    "g_size = lines[0][0].split()\n",
    "print(int(lines[0][0].split()[0]))"
   ]
  },
  {
   "cell_type": "code",
   "execution_count": 50,
   "metadata": {},
   "outputs": [
    {
     "name": "stdout",
     "output_type": "stream",
     "text": [
      "[[0. 0. 0. 0. 0. 0. 0. 0. 0.]\n",
      " [0. 0. 0. 0. 0. 0. 0. 0. 0.]\n",
      " [0. 0. 0. 0. 0. 0. 0. 0. 0.]\n",
      " [0. 0. 0. 0. 0. 0. 0. 0. 0.]\n",
      " [0. 0. 0. 0. 0. 0. 0. 0. 0.]\n",
      " [0. 0. 0. 0. 0. 0. 0. 0. 0.]\n",
      " [0. 0. 0. 0. 0. 0. 0. 0. 0.]\n",
      " [0. 0. 0. 0. 0. 0. 0. 0. 0.]\n",
      " [0. 0. 0. 0. 0. 0. 0. 0. 0.]]\n"
     ]
    }
   ],
   "source": [
    "import numpy as np\n",
    "\n",
    "g_size = int(lines[0][0].split()[0])\n",
    "g = Graph(g_size)\n",
    "\n",
    "g.graph = np.zeros((g_size,g_size))\n",
    "\n",
    "print(g.graph)"
   ]
  },
  {
   "cell_type": "code",
   "execution_count": 51,
   "metadata": {},
   "outputs": [],
   "source": [
    "if Dir_graph == 1:\n",
    "    for i in range(1,len(lines)):\n",
    "        line = lines[i]\n",
    "        i,j,val = line.split()\n",
    "        g.graph[ord(i.upper())-65][ord(j.upper())-65]=val\n",
    "else :\n",
    "    for i in range(1,len(lines)):\n",
    "        line = lines[i]\n",
    "        i,j,val = line.split()\n",
    "        g.graph[ord(i.upper())-65][ord(j.upper())-65]=val\n",
    "        g.graph[ord(j.upper())-65][ord(i.upper())-65]=val"
   ]
  },
  {
   "cell_type": "code",
   "execution_count": 52,
   "metadata": {},
   "outputs": [
    {
     "name": "stdout",
     "output_type": "stream",
     "text": [
      "[[ 0.  4.  0.  0.  0.  0.  0.  8.  0.]\n",
      " [ 4.  0.  8.  0.  0.  0.  0. 11.  0.]\n",
      " [ 0.  8.  0.  7.  0.  4.  0.  0.  2.]\n",
      " [ 0.  0.  7.  0.  9. 14.  0.  0.  0.]\n",
      " [ 0.  0.  0.  9.  0. 10.  0.  0.  0.]\n",
      " [ 0.  0.  4. 14. 10.  0.  2.  0.  0.]\n",
      " [ 0.  0.  0.  0.  0.  2.  0.  1.  6.]\n",
      " [ 8. 11.  0.  0.  0.  0.  1.  0.  7.]\n",
      " [ 0.  0.  2.  0.  0.  0.  6.  7.  0.]]\n"
     ]
    }
   ],
   "source": [
    "print(g.graph)"
   ]
  },
  {
   "cell_type": "markdown",
   "metadata": {},
   "source": [
    "# Call Dijkstra's Algorithm from Source Node 'A', 'D', 'F'"
   ]
  },
  {
   "cell_type": "code",
   "execution_count": 53,
   "metadata": {},
   "outputs": [
    {
     "name": "stdout",
     "output_type": "stream",
     "text": [
      "Vertex \t\tDistance from Source\t\t\t  Path\n",
      "\n",
      "A --> A \t\t0 \t\t\t\t  A  \n",
      "A --> B \t\t4 \t\t\t\t  A  B  \n",
      "A --> C \t\t12 \t\t\t\t  A  B  C  \n",
      "A --> D \t\t19 \t\t\t\t  A  B  C  D  \n",
      "A --> E \t\t21 \t\t\t\t  A  H  G  F  E  \n",
      "A --> F \t\t11 \t\t\t\t  A  H  G  F  \n",
      "A --> G \t\t9 \t\t\t\t  A  H  G  \n",
      "A --> H \t\t8 \t\t\t\t  A  H  \n",
      "A --> I \t\t14 \t\t\t\t  A  B  C  I  "
     ]
    }
   ],
   "source": [
    "g.dijkstra('A');"
   ]
  },
  {
   "cell_type": "code",
   "execution_count": 54,
   "metadata": {},
   "outputs": [
    {
     "name": "stdout",
     "output_type": "stream",
     "text": [
      "Vertex \t\tDistance from Source\t\t\t  Path\n",
      "\n",
      "D --> A \t\t19 \t\t\t\t  D  C  B  A  \n",
      "D --> B \t\t15 \t\t\t\t  D  C  B  \n",
      "D --> C \t\t7 \t\t\t\t  D  C  \n",
      "D --> D \t\t0 \t\t\t\t  D  \n",
      "D --> E \t\t9 \t\t\t\t  D  E  \n",
      "D --> F \t\t11 \t\t\t\t  D  C  F  \n",
      "D --> G \t\t13 \t\t\t\t  D  C  F  G  \n",
      "D --> H \t\t14 \t\t\t\t  D  C  F  G  H  \n",
      "D --> I \t\t9 \t\t\t\t  D  C  I  "
     ]
    }
   ],
   "source": [
    "g.dijkstra('D');"
   ]
  },
  {
   "cell_type": "code",
   "execution_count": 55,
   "metadata": {},
   "outputs": [
    {
     "name": "stdout",
     "output_type": "stream",
     "text": [
      "Vertex \t\tDistance from Source\t\t\t  Path\n",
      "\n",
      "F --> A \t\t11 \t\t\t\t  F  G  H  A  \n",
      "F --> B \t\t12 \t\t\t\t  F  C  B  \n",
      "F --> C \t\t4 \t\t\t\t  F  C  \n",
      "F --> D \t\t11 \t\t\t\t  F  C  D  \n",
      "F --> E \t\t10 \t\t\t\t  F  E  \n",
      "F --> F \t\t0 \t\t\t\t  F  \n",
      "F --> G \t\t2 \t\t\t\t  F  G  \n",
      "F --> H \t\t3 \t\t\t\t  F  G  H  \n",
      "F --> I \t\t6 \t\t\t\t  F  C  I  "
     ]
    }
   ],
   "source": [
    "g.dijkstra('F');"
   ]
  },
  {
   "cell_type": "markdown",
   "metadata": {},
   "source": [
    "# Reading Input File-4(Directed) and Creating Adjacency Matrix"
   ]
  },
  {
   "cell_type": "code",
   "execution_count": 56,
   "metadata": {},
   "outputs": [],
   "source": [
    "file = open(\"Input_File_Dir_3.rtf\", 'r')"
   ]
  },
  {
   "cell_type": "code",
   "execution_count": 57,
   "metadata": {},
   "outputs": [],
   "source": [
    "Dir_graph = 0\n",
    "lines = file.readlines()\n",
    "list1 = lines[0].split()\n",
    "if list1[2] == 'D':\n",
    "    Dir_graph = 1"
   ]
  },
  {
   "cell_type": "code",
   "execution_count": 58,
   "metadata": {},
   "outputs": [
    {
     "name": "stdout",
     "output_type": "stream",
     "text": [
      "9\n"
     ]
    }
   ],
   "source": [
    "g_size = lines[0][0].split()\n",
    "print(int(lines[0][0].split()[0]))"
   ]
  },
  {
   "cell_type": "code",
   "execution_count": 59,
   "metadata": {},
   "outputs": [
    {
     "name": "stdout",
     "output_type": "stream",
     "text": [
      "[[0. 0. 0. 0. 0. 0. 0. 0. 0.]\n",
      " [0. 0. 0. 0. 0. 0. 0. 0. 0.]\n",
      " [0. 0. 0. 0. 0. 0. 0. 0. 0.]\n",
      " [0. 0. 0. 0. 0. 0. 0. 0. 0.]\n",
      " [0. 0. 0. 0. 0. 0. 0. 0. 0.]\n",
      " [0. 0. 0. 0. 0. 0. 0. 0. 0.]\n",
      " [0. 0. 0. 0. 0. 0. 0. 0. 0.]\n",
      " [0. 0. 0. 0. 0. 0. 0. 0. 0.]\n",
      " [0. 0. 0. 0. 0. 0. 0. 0. 0.]]\n"
     ]
    }
   ],
   "source": [
    "import numpy as np\n",
    "\n",
    "g_size = int(lines[0][0].split()[0])\n",
    "g = Graph(g_size)\n",
    "\n",
    "g.graph = np.zeros((g_size,g_size))\n",
    "\n",
    "print(g.graph)"
   ]
  },
  {
   "cell_type": "code",
   "execution_count": 60,
   "metadata": {},
   "outputs": [],
   "source": [
    "if Dir_graph == 1:\n",
    "    for i in range(1,len(lines)):\n",
    "        line = lines[i]\n",
    "        i,j,val = line.split()\n",
    "        g.graph[ord(i.upper())-65][ord(j.upper())-65]=val\n",
    "else :\n",
    "    for i in range(1,len(lines)):\n",
    "        line = lines[i]\n",
    "        i,j,val = line.split()\n",
    "        g.graph[ord(i.upper())-65][ord(j.upper())-65]=val\n",
    "        g.graph[ord(j.upper())-65][ord(i.upper())-65]=val"
   ]
  },
  {
   "cell_type": "code",
   "execution_count": 61,
   "metadata": {},
   "outputs": [
    {
     "name": "stdout",
     "output_type": "stream",
     "text": [
      "[[ 0.  1.  3.  0.  0. 10.  0.  0.  0.]\n",
      " [ 0.  0.  1.  7.  5.  0.  2.  0.  0.]\n",
      " [ 0.  0.  0.  9.  3.  0.  0.  0.  0.]\n",
      " [ 0.  0.  0.  0.  2.  1.  0.  0.  0.]\n",
      " [ 0.  0.  0.  0.  0.  2.  0.  0.  0.]\n",
      " [ 0.  0.  0.  0.  0.  0. 12.  9.  0.]\n",
      " [ 0.  0.  0.  0.  0.  0.  0.  0.  0.]\n",
      " [ 0.  0.  0.  0.  0.  0.  0.  0. 18.]\n",
      " [ 0.  0.  0.  0.  0.  0.  0.  0.  0.]]\n"
     ]
    }
   ],
   "source": [
    "print(g.graph)"
   ]
  },
  {
   "cell_type": "markdown",
   "metadata": {},
   "source": [
    "## Call Dijkstra's Algorithm from Source Node 'A', 'D', 'F'"
   ]
  },
  {
   "cell_type": "code",
   "execution_count": 62,
   "metadata": {},
   "outputs": [
    {
     "name": "stdout",
     "output_type": "stream",
     "text": [
      "Vertex \t\tDistance from Source\t\t\t  Path\n",
      "\n",
      "A --> A \t\t0 \t\t\t\t  A  \n",
      "A --> B \t\t1 \t\t\t\t  A  B  \n",
      "A --> C \t\t2 \t\t\t\t  A  B  C  \n",
      "A --> D \t\t8 \t\t\t\t  A  B  D  \n",
      "A --> E \t\t5 \t\t\t\t  A  B  C  E  \n",
      "A --> F \t\t7 \t\t\t\t  A  B  C  E  F  \n",
      "A --> G \t\t3 \t\t\t\t  A  B  G  \n",
      "A --> H \t\t16 \t\t\t\t  A  B  C  E  F  H  \n",
      "A --> I \t\t34 \t\t\t\t  A  B  C  E  F  H  I  "
     ]
    }
   ],
   "source": [
    "g.dijkstra('A');"
   ]
  },
  {
   "cell_type": "code",
   "execution_count": 63,
   "metadata": {},
   "outputs": [
    {
     "name": "stdout",
     "output_type": "stream",
     "text": [
      "Vertex \t\tDistance from Source\t\t\t  Path\n",
      "\n",
      "D --> A \t\t9223372036854775807 \t\t\t\t  UNREACHABLE\n",
      "D --> B \t\t9223372036854775807 \t\t\t\t  UNREACHABLE\n",
      "D --> C \t\t9223372036854775807 \t\t\t\t  UNREACHABLE\n",
      "D --> D \t\t0 \t\t\t\t  D  \n",
      "D --> E \t\t2 \t\t\t\t  D  E  \n",
      "D --> F \t\t1 \t\t\t\t  D  F  \n",
      "D --> G \t\t13 \t\t\t\t  D  F  G  \n",
      "D --> H \t\t10 \t\t\t\t  D  F  H  \n",
      "D --> I \t\t28 \t\t\t\t  D  F  H  I  "
     ]
    }
   ],
   "source": [
    "g.dijkstra('D');"
   ]
  },
  {
   "cell_type": "code",
   "execution_count": 64,
   "metadata": {},
   "outputs": [
    {
     "name": "stdout",
     "output_type": "stream",
     "text": [
      "Vertex \t\tDistance from Source\t\t\t  Path\n",
      "\n",
      "F --> A \t\t9223372036854775807 \t\t\t\t  UNREACHABLE\n",
      "F --> B \t\t9223372036854775807 \t\t\t\t  UNREACHABLE\n",
      "F --> C \t\t9223372036854775807 \t\t\t\t  UNREACHABLE\n",
      "F --> D \t\t9223372036854775807 \t\t\t\t  UNREACHABLE\n",
      "F --> E \t\t9223372036854775807 \t\t\t\t  UNREACHABLE\n",
      "F --> F \t\t0 \t\t\t\t  F  \n",
      "F --> G \t\t12 \t\t\t\t  F  G  \n",
      "F --> H \t\t9 \t\t\t\t  F  H  \n",
      "F --> I \t\t27 \t\t\t\t  F  H  I  "
     ]
    }
   ],
   "source": [
    "g.dijkstra('F');"
   ]
  },
  {
   "cell_type": "markdown",
   "metadata": {},
   "source": [
    "# Reading Input File-4(UnDirected) and Creating Adjacency Matrix"
   ]
  },
  {
   "cell_type": "code",
   "execution_count": 65,
   "metadata": {},
   "outputs": [],
   "source": [
    "file = open(\"Input_File_UnDir_3.rtf\", 'r')"
   ]
  },
  {
   "cell_type": "code",
   "execution_count": 66,
   "metadata": {},
   "outputs": [],
   "source": [
    "Dir_graph = 0\n",
    "lines = file.readlines()\n",
    "list1 = lines[0].split()\n",
    "if list1[2] == 'D':\n",
    "    Dir_graph = 1"
   ]
  },
  {
   "cell_type": "code",
   "execution_count": 67,
   "metadata": {},
   "outputs": [
    {
     "name": "stdout",
     "output_type": "stream",
     "text": [
      "7\n"
     ]
    }
   ],
   "source": [
    "g_size = lines[0][0].split()\n",
    "print(int(lines[0][0].split()[0]))"
   ]
  },
  {
   "cell_type": "code",
   "execution_count": 68,
   "metadata": {},
   "outputs": [
    {
     "name": "stdout",
     "output_type": "stream",
     "text": [
      "[[0. 0. 0. 0. 0. 0. 0.]\n",
      " [0. 0. 0. 0. 0. 0. 0.]\n",
      " [0. 0. 0. 0. 0. 0. 0.]\n",
      " [0. 0. 0. 0. 0. 0. 0.]\n",
      " [0. 0. 0. 0. 0. 0. 0.]\n",
      " [0. 0. 0. 0. 0. 0. 0.]\n",
      " [0. 0. 0. 0. 0. 0. 0.]]\n"
     ]
    }
   ],
   "source": [
    "import numpy as np\n",
    "\n",
    "g_size = int(lines[0][0].split()[0])\n",
    "g = Graph(g_size)\n",
    "\n",
    "g.graph = np.zeros((g_size,g_size))\n",
    "\n",
    "print(g.graph)"
   ]
  },
  {
   "cell_type": "code",
   "execution_count": 69,
   "metadata": {},
   "outputs": [],
   "source": [
    "if Dir_graph == 1:\n",
    "    for i in range(1,len(lines)):\n",
    "        line = lines[i]\n",
    "        i,j,val = line.split()\n",
    "        g.graph[ord(i.upper())-65][ord(j.upper())-65]=val\n",
    "else :\n",
    "    for i in range(1,len(lines)):\n",
    "        line = lines[i]\n",
    "        i,j,val = line.split()\n",
    "        g.graph[ord(i.upper())-65][ord(j.upper())-65]=val\n",
    "        g.graph[ord(j.upper())-65][ord(i.upper())-65]=val"
   ]
  },
  {
   "cell_type": "code",
   "execution_count": 70,
   "metadata": {},
   "outputs": [
    {
     "name": "stdout",
     "output_type": "stream",
     "text": [
      "[[ 0.  1.  3.  0.  0. 10.  0.]\n",
      " [ 1.  0.  1.  7.  5.  0.  2.]\n",
      " [ 3.  1.  0.  9.  3.  0.  0.]\n",
      " [ 0.  7.  9.  0.  2.  1.  0.]\n",
      " [ 0.  5.  3.  2.  0.  2.  0.]\n",
      " [10.  0.  0.  1.  2.  0.  0.]\n",
      " [ 0.  2.  0.  0.  0.  0.  0.]]\n"
     ]
    }
   ],
   "source": [
    "print(g.graph)"
   ]
  },
  {
   "cell_type": "markdown",
   "metadata": {},
   "source": [
    "## Call Dijkstra's Algorithm from Source Node 'A', 'D', 'F'"
   ]
  },
  {
   "cell_type": "code",
   "execution_count": 71,
   "metadata": {},
   "outputs": [
    {
     "name": "stdout",
     "output_type": "stream",
     "text": [
      "Vertex \t\tDistance from Source\t\t\t  Path\n",
      "\n",
      "A --> A \t\t0 \t\t\t\t  A  \n",
      "A --> B \t\t1 \t\t\t\t  A  B  \n",
      "A --> C \t\t2 \t\t\t\t  A  B  C  \n",
      "A --> D \t\t7 \t\t\t\t  A  B  C  E  D  \n",
      "A --> E \t\t5 \t\t\t\t  A  B  C  E  \n",
      "A --> F \t\t7 \t\t\t\t  A  B  C  E  F  \n",
      "A --> G \t\t3 \t\t\t\t  A  B  G  "
     ]
    }
   ],
   "source": [
    "g.dijkstra('A');"
   ]
  },
  {
   "cell_type": "code",
   "execution_count": 72,
   "metadata": {},
   "outputs": [
    {
     "name": "stdout",
     "output_type": "stream",
     "text": [
      "Vertex \t\tDistance from Source\t\t\t  Path\n",
      "\n",
      "D --> A \t\t7 \t\t\t\t  D  E  C  B  A  \n",
      "D --> B \t\t6 \t\t\t\t  D  E  C  B  \n",
      "D --> C \t\t5 \t\t\t\t  D  E  C  \n",
      "D --> D \t\t0 \t\t\t\t  D  \n",
      "D --> E \t\t2 \t\t\t\t  D  E  \n",
      "D --> F \t\t1 \t\t\t\t  D  F  \n",
      "D --> G \t\t8 \t\t\t\t  D  E  C  B  G  "
     ]
    }
   ],
   "source": [
    "g.dijkstra('D');"
   ]
  },
  {
   "cell_type": "code",
   "execution_count": 73,
   "metadata": {},
   "outputs": [
    {
     "name": "stdout",
     "output_type": "stream",
     "text": [
      "Vertex \t\tDistance from Source\t\t\t  Path\n",
      "\n",
      "F --> A \t\t7 \t\t\t\t  F  E  C  B  A  \n",
      "F --> B \t\t6 \t\t\t\t  F  E  C  B  \n",
      "F --> C \t\t5 \t\t\t\t  F  E  C  \n",
      "F --> D \t\t1 \t\t\t\t  F  D  \n",
      "F --> E \t\t2 \t\t\t\t  F  E  \n",
      "F --> F \t\t0 \t\t\t\t  F  \n",
      "F --> G \t\t8 \t\t\t\t  F  E  C  B  G  "
     ]
    }
   ],
   "source": [
    "g.dijkstra('F');"
   ]
  }
 ],
 "metadata": {
  "kernelspec": {
   "display_name": "Python 3",
   "language": "python",
   "name": "python3"
  },
  "language_info": {
   "codemirror_mode": {
    "name": "ipython",
    "version": 3
   },
   "file_extension": ".py",
   "mimetype": "text/x-python",
   "name": "python",
   "nbconvert_exporter": "python",
   "pygments_lexer": "ipython3",
   "version": "3.7.3"
  }
 },
 "nbformat": 4,
 "nbformat_minor": 2
}
