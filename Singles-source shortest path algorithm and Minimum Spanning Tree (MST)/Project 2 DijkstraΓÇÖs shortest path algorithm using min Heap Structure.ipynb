{
 "cells": [
  {
   "cell_type": "markdown",
   "metadata": {},
   "source": [
    "# PROJECT 2 : GRAPH ALGORITHMS\n",
    "\n",
    "#### TEAM MEMBERS  :  TANVI RASAM, CHAITANYA DARADE"
   ]
  },
  {
   "cell_type": "markdown",
   "metadata": {},
   "source": [
    "# Source Code For Dijkstra's Algorithm Implementation using Min Heap"
   ]
  },
  {
   "cell_type": "code",
   "execution_count": 59,
   "metadata": {},
   "outputs": [],
   "source": [
    "from collections import defaultdict \n",
    "import sys \n",
    "  \n",
    "class Heap(): \n",
    "  \n",
    "    def __init__(self): \n",
    "        self.array = [] \n",
    "        self.size = 0\n",
    "        self.pos = [] \n",
    "  \n",
    "    def newMinHeapNode(self, v, dist): \n",
    "        minHeapNode = [v, dist] \n",
    "        return minHeapNode \n",
    "  \n",
    "    # A utility function to swap two nodes  \n",
    "    # of min heap. Needed for min heapify \n",
    "    def swapMinHeapNode(self,a, b): \n",
    "        t = self.array[a] \n",
    "        self.array[a] = self.array[b] \n",
    "        self.array[b] = t \n",
    "  \n",
    "    # A standard function to heapify at given idx \n",
    "    # This function also updates position of nodes  \n",
    "    # when they are swapped.Position is needed  \n",
    "    # for decreaseKey() \n",
    "    def minHeapify(self, idx): \n",
    "        smallest = idx \n",
    "        left = 2*idx + 1\n",
    "        right = 2*idx + 2\n",
    "  \n",
    "        if left < self.size and self.array[left][1] < self.array[smallest][1]: \n",
    "            smallest = left \n",
    "  \n",
    "        if right < self.size and self.array[right][1] < self.array[smallest][1]: \n",
    "            smallest = right \n",
    "  \n",
    "        # The nodes to be swapped in min  \n",
    "        # heap if idx is not smallest \n",
    "        if smallest != idx: \n",
    "  \n",
    "            # Swap positions \n",
    "            self.pos[ self.array[smallest][0] ] = idx \n",
    "            self.pos[ self.array[idx][0] ] = smallest \n",
    "  \n",
    "            # Swap nodes \n",
    "            self.swapMinHeapNode(smallest, idx) \n",
    "  \n",
    "            self.minHeapify(smallest) \n",
    "  \n",
    "    # Standard function to extract minimum  \n",
    "    # node from heap \n",
    "    def extractMin(self): \n",
    "  \n",
    "        # Return NULL wif heap is empty \n",
    "        if self.isEmpty() == True: \n",
    "            return\n",
    "  \n",
    "        # Store the root node \n",
    "        root = self.array[0] \n",
    "  \n",
    "        # Replace root node with last node \n",
    "        lastNode = self.array[self.size - 1] \n",
    "        self.array[0] = lastNode \n",
    "  \n",
    "        # Update position of last node \n",
    "        self.pos[lastNode[0]] = 0\n",
    "        self.pos[root[0]] = self.size - 1\n",
    "  \n",
    "        # Reduce heap size and heapify root \n",
    "        self.size -= 1\n",
    "        self.minHeapify(0) \n",
    "  \n",
    "        return root \n",
    "  \n",
    "    def isEmpty(self): \n",
    "        return True if self.size == 0 else False\n",
    "  \n",
    "    def decreaseKey(self, v, dist): \n",
    "  \n",
    "        # Get the index of v in  heap array \n",
    "  \n",
    "        i = self.pos[v] \n",
    "  \n",
    "        # Get the node and update its dist value \n",
    "        self.array[i][1] = dist \n",
    "  \n",
    "        # Travel up while the complete tree is  \n",
    "        # not hepified. This is a O(Logn) loop \n",
    "        while i > 0 and self.array[i][1] < self.array[int((i - 1) / 2)][1]: \n",
    "  \n",
    "            # Swap this node with its parent \n",
    "            self.pos[ self.array[i][0] ] = int((i-1)/2)\n",
    "            self.pos[ self.array[int((i-1)/2)][0] ] = i \n",
    "            self.swapMinHeapNode(i, int((i - 1)/2) ) \n",
    "  \n",
    "            # move to parent index \n",
    "            i = int((i - 1) / 2); \n",
    "  \n",
    "    # A utility function to check if a given  \n",
    "    # vertex 'v' is in min heap or not \n",
    "    def isInMinHeap(self, v): \n",
    "  \n",
    "        if self.pos[v] < self.size: \n",
    "            return True\n",
    "        return False\n",
    "  \n",
    "    def printArr(dist, n, parent): \n",
    "        print(\"Vertex\\tDistance from source\")\n",
    "        for i in range(n): \n",
    "            print(\"%d\\t\\t%d\" % (i,dist[i]))\n",
    "\n",
    "class Graph(): \n",
    "  \n",
    "    def __init__(self, V): \n",
    "        self.V = V \n",
    "        self.graph = defaultdict(list) \n",
    "  \n",
    "    def printPath(self, src, parent, j): \n",
    "        #Base Case : If j is source \n",
    "        if parent[j] == 999:\n",
    "            if src == j:\n",
    "                print(chr(j+65),\" \",end = ''),\n",
    "            else:\n",
    "                print(\"UNREACHABLE\",end = ''),\n",
    "            return\n",
    "        self.printPath(src, parent , parent[j]) \n",
    "        print(chr(j+65),\" \",end = ''),\n",
    "  \n",
    "    def printSolution(self, src, dist, parent):\n",
    "        print(\"Vertex \\t\\tDistance from Source\\t\\t\\t  Path\")\n",
    "        for node in range(0,self.V): \n",
    "            print(\"\\n%s --> %s \\t\\t%d \\t\\t\\t\\t\" % (chr(src+65), chr(node+65), dist[node]),\" \", end = ''),\n",
    "            self.printPath(src,parent,node)\n",
    "\n",
    "    # Adds an edge to an undirected graph \n",
    "    def addEdge(self, src, dest, weight): \n",
    "  \n",
    "        # Add an edge from src to dest.  A new node  \n",
    "        # is added to the adjacency list of src. The  \n",
    "        # node is added at the beginning. The first  \n",
    "        # element of the node has the destination  \n",
    "        # and the second elements has the weight \n",
    "        newNode = [dest, weight] \n",
    "        self.graph[src].insert(0, newNode) \n",
    "  \n",
    "        # Since graph is undirected, add an edge  \n",
    "        # from dest to src also \n",
    "        #newNode = [src, weight] \n",
    "        #self.graph[dest].insert(0, newNode) \n",
    "  \n",
    "    # The main function that calulates distances  \n",
    "    # of shortest paths from src to all vertices.  \n",
    "    # It is a O(ELogV) function \n",
    "    def dijkstra(self, src): \n",
    "        src = ord(src.upper())-65\n",
    "        V = self.V  # Get the number of vertices in graph \n",
    "        dist = []   # dist values used to pick minimum  \n",
    "                    # weight edge in cut \n",
    "        #dist = [sys.maxsize] * self.V\n",
    "        # minHeap represents set E \n",
    "        minHeap = Heap() \n",
    "  \n",
    "        #  Initialize min heap with all vertices.  \n",
    "        # dist value of all vertices \n",
    "        for v in range(V): \n",
    "            dist.append(sys.maxsize) \n",
    "            minHeap.array.append( minHeap.newMinHeapNode(v, dist[v]) ) \n",
    "            minHeap.pos.append(v) \n",
    "  \n",
    "        # Make dist value of src vertex as 0 so  \n",
    "        # that it is extracted first \n",
    "        minHeap.pos[src] = src \n",
    "        dist[src] = 0\n",
    "        sptSet = [False] * self.V \n",
    "        parent = [999] * self.V \n",
    "        minHeap.decreaseKey(src, dist[src]) \n",
    "  \n",
    "        # Initially size of min heap is equal to V \n",
    "        minHeap.size = V; \n",
    "  \n",
    "        # In the following loop, min heap contains all nodes \n",
    "        # whose shortest distance is not yet finalized. \n",
    "        while minHeap.isEmpty() == False: \n",
    "  \n",
    "            # Extract the vertex with minimum distance value \n",
    "            newHeapNode = minHeap.extractMin() \n",
    "            u = newHeapNode[0] \n",
    "            sptSet[u] = True  \n",
    "            # Traverse through all adjacent vertices of  \n",
    "            # u (the extracted vertex) and update their  \n",
    "            # distance values \n",
    "            for pCrawl in self.graph[u]: \n",
    "                \n",
    "                v = pCrawl[0] \n",
    "  \n",
    "                # If shortest distance to v is not finalized  \n",
    "                # yet, and distance to v through u is less  \n",
    "                # than its previously calculated distance \n",
    "                if minHeap.isInMinHeap(v) and sptSet[v] == False and dist[u] != sys.maxsize and pCrawl[1] + dist[u] < dist[v]:\n",
    "                    dist[v] = pCrawl[1] + dist[u] \n",
    "                    parent[v] = u \n",
    "                    # update distance value  \n",
    "                    # in min heap also \n",
    "                    minHeap.decreaseKey(v, dist[v]) \n",
    "  \n",
    "        #printArr(dist,V,parent) \n",
    "        self.printSolution(src,dist,parent)"
   ]
  },
  {
   "cell_type": "markdown",
   "metadata": {},
   "source": [
    "# Reading Input File-1(Directed)"
   ]
  },
  {
   "cell_type": "code",
   "execution_count": 60,
   "metadata": {},
   "outputs": [],
   "source": [
    "file = open(\"Input_File_Dir_0.rtf\", 'r')"
   ]
  },
  {
   "cell_type": "code",
   "execution_count": 61,
   "metadata": {},
   "outputs": [
    {
     "name": "stdout",
     "output_type": "stream",
     "text": [
      "1\n"
     ]
    }
   ],
   "source": [
    "Dir_graph = 0\n",
    "lines = file.readlines()\n",
    "list1 = lines[0].split()\n",
    "if list1[2] == 'D':\n",
    "    Dir_graph = 1\n",
    "print(Dir_graph)"
   ]
  },
  {
   "cell_type": "code",
   "execution_count": 62,
   "metadata": {},
   "outputs": [
    {
     "name": "stdout",
     "output_type": "stream",
     "text": [
      "9\n"
     ]
    }
   ],
   "source": [
    "import numpy as np\n",
    "g_size = int(lines[0][0].split()[0])\n",
    "g = Graph(g_size)\n",
    "print(int(lines[0][0].split()[0]))"
   ]
  },
  {
   "cell_type": "code",
   "execution_count": 63,
   "metadata": {},
   "outputs": [],
   "source": [
    "if Dir_graph == 1:\n",
    "    for i in range(1,len(lines)):\n",
    "        line = lines[i]\n",
    "        i,j,val = line.split()\n",
    "        g.addEdge(ord(i.upper())-65,ord(j.upper())-65,int(val))\n",
    "else :\n",
    "    for i in range(1,len(lines)):\n",
    "        line = lines[i]\n",
    "        i,j,val = line.split()\n",
    "        g.addEdge(ord(i.upper())-65,ord(j.upper())-65,int(val))\n",
    "        g.addEdge(ord(j.upper())-65,ord(i.upper())-65,int(val))"
   ]
  },
  {
   "cell_type": "markdown",
   "metadata": {},
   "source": [
    "## Call Dijkstra's Algorithm from Source Node 'A', 'B', 'C'"
   ]
  },
  {
   "cell_type": "code",
   "execution_count": 64,
   "metadata": {
    "scrolled": true
   },
   "outputs": [
    {
     "name": "stdout",
     "output_type": "stream",
     "text": [
      "Vertex \t\tDistance from Source\t\t\t  Path\n",
      "\n",
      "A --> A \t\t0 \t\t\t\t  A  \n",
      "A --> B \t\t1 \t\t\t\t  A  B  \n",
      "A --> C \t\t2 \t\t\t\t  A  C  \n",
      "A --> D \t\t3 \t\t\t\t  A  C  D  \n",
      "A --> E \t\t3 \t\t\t\t  A  B  E  \n",
      "A --> F \t\t6 \t\t\t\t  A  B  E  F  \n",
      "A --> G \t\t11 \t\t\t\t  A  B  E  F  G  \n",
      "A --> H \t\t15 \t\t\t\t  A  B  E  F  G  H  \n",
      "A --> I \t\t10 \t\t\t\t  A  B  E  F  I  "
     ]
    }
   ],
   "source": [
    "g.dijkstra('A')"
   ]
  },
  {
   "cell_type": "code",
   "execution_count": 65,
   "metadata": {},
   "outputs": [
    {
     "name": "stdout",
     "output_type": "stream",
     "text": [
      "Vertex \t\tDistance from Source\t\t\t  Path\n",
      "\n",
      "B --> A \t\t9223372036854775807 \t\t\t\t  UNREACHABLE\n",
      "B --> B \t\t0 \t\t\t\t  B  \n",
      "B --> C \t\t1 \t\t\t\t  B  C  \n",
      "B --> D \t\t2 \t\t\t\t  B  C  D  \n",
      "B --> E \t\t2 \t\t\t\t  B  E  \n",
      "B --> F \t\t5 \t\t\t\t  B  E  F  \n",
      "B --> G \t\t10 \t\t\t\t  B  E  F  G  \n",
      "B --> H \t\t14 \t\t\t\t  B  E  F  G  H  \n",
      "B --> I \t\t9 \t\t\t\t  B  E  F  I  "
     ]
    }
   ],
   "source": [
    "g.dijkstra('B')"
   ]
  },
  {
   "cell_type": "code",
   "execution_count": 66,
   "metadata": {},
   "outputs": [
    {
     "name": "stdout",
     "output_type": "stream",
     "text": [
      "Vertex \t\tDistance from Source\t\t\t  Path\n",
      "\n",
      "C --> A \t\t9223372036854775807 \t\t\t\t  UNREACHABLE\n",
      "C --> B \t\t9223372036854775807 \t\t\t\t  UNREACHABLE\n",
      "C --> C \t\t0 \t\t\t\t  C  \n",
      "C --> D \t\t1 \t\t\t\t  C  D  \n",
      "C --> E \t\t2 \t\t\t\t  C  E  \n",
      "C --> F \t\t4 \t\t\t\t  C  D  F  \n",
      "C --> G \t\t9 \t\t\t\t  C  D  F  G  \n",
      "C --> H \t\t13 \t\t\t\t  C  D  F  G  H  \n",
      "C --> I \t\t8 \t\t\t\t  C  D  F  I  "
     ]
    }
   ],
   "source": [
    "g.dijkstra('C')"
   ]
  },
  {
   "cell_type": "markdown",
   "metadata": {},
   "source": [
    "# Reading Input File-1(UnDirected)"
   ]
  },
  {
   "cell_type": "code",
   "execution_count": 67,
   "metadata": {},
   "outputs": [],
   "source": [
    "file = open(\"Input_File_UnDir_0.rtf\", 'r')"
   ]
  },
  {
   "cell_type": "code",
   "execution_count": 68,
   "metadata": {},
   "outputs": [],
   "source": [
    "Dir_graph = 0\n",
    "lines = file.readlines()\n",
    "list1 = lines[0].split()\n",
    "if list1[2] == 'D':\n",
    "    Dir_graph = 1"
   ]
  },
  {
   "cell_type": "code",
   "execution_count": 69,
   "metadata": {},
   "outputs": [
    {
     "name": "stdout",
     "output_type": "stream",
     "text": [
      "9\n"
     ]
    }
   ],
   "source": [
    "import numpy as np\n",
    "g_size = int(lines[0][0].split()[0])\n",
    "g = Graph(g_size)\n",
    "print(int(lines[0][0].split()[0]))"
   ]
  },
  {
   "cell_type": "code",
   "execution_count": 70,
   "metadata": {},
   "outputs": [],
   "source": [
    "if Dir_graph == 1:\n",
    "    for i in range(1,len(lines)):\n",
    "        line = lines[i]\n",
    "        i,j,val = line.split()\n",
    "        g.addEdge(ord(i.upper())-65,ord(j.upper())-65,int(val))\n",
    "else :\n",
    "    for i in range(1,len(lines)):\n",
    "        line = lines[i]\n",
    "        i,j,val = line.split()\n",
    "        g.addEdge(ord(i.upper())-65,ord(j.upper())-65,int(val))\n",
    "        g.addEdge(ord(j.upper())-65,ord(i.upper())-65,int(val))"
   ]
  },
  {
   "cell_type": "markdown",
   "metadata": {},
   "source": [
    "## Call Dijkstra's Algorithm from Source Node 'A', 'B', 'C'"
   ]
  },
  {
   "cell_type": "code",
   "execution_count": 71,
   "metadata": {},
   "outputs": [
    {
     "name": "stdout",
     "output_type": "stream",
     "text": [
      "Vertex \t\tDistance from Source\t\t\t  Path\n",
      "\n",
      "A --> A \t\t0 \t\t\t\t  A  \n",
      "A --> B \t\t1 \t\t\t\t  A  B  \n",
      "A --> C \t\t2 \t\t\t\t  A  C  \n",
      "A --> D \t\t3 \t\t\t\t  A  C  D  \n",
      "A --> E \t\t3 \t\t\t\t  A  B  E  \n",
      "A --> F \t\t6 \t\t\t\t  A  B  E  F  \n",
      "A --> G \t\t11 \t\t\t\t  A  B  E  F  G  \n",
      "A --> H \t\t15 \t\t\t\t  A  B  E  F  G  H  \n",
      "A --> I \t\t10 \t\t\t\t  A  B  E  F  I  "
     ]
    }
   ],
   "source": [
    "g.dijkstra('A');"
   ]
  },
  {
   "cell_type": "code",
   "execution_count": 72,
   "metadata": {},
   "outputs": [
    {
     "name": "stdout",
     "output_type": "stream",
     "text": [
      "Vertex \t\tDistance from Source\t\t\t  Path\n",
      "\n",
      "B --> A \t\t1 \t\t\t\t  B  A  \n",
      "B --> B \t\t0 \t\t\t\t  B  \n",
      "B --> C \t\t1 \t\t\t\t  B  C  \n",
      "B --> D \t\t2 \t\t\t\t  B  C  D  \n",
      "B --> E \t\t2 \t\t\t\t  B  E  \n",
      "B --> F \t\t5 \t\t\t\t  B  C  D  F  \n",
      "B --> G \t\t10 \t\t\t\t  B  C  D  F  G  \n",
      "B --> H \t\t14 \t\t\t\t  B  C  D  F  G  H  \n",
      "B --> I \t\t9 \t\t\t\t  B  C  D  F  I  "
     ]
    }
   ],
   "source": [
    "g.dijkstra('B');"
   ]
  },
  {
   "cell_type": "code",
   "execution_count": 73,
   "metadata": {},
   "outputs": [
    {
     "name": "stdout",
     "output_type": "stream",
     "text": [
      "Vertex \t\tDistance from Source\t\t\t  Path\n",
      "\n",
      "C --> A \t\t2 \t\t\t\t  C  A  \n",
      "C --> B \t\t1 \t\t\t\t  C  B  \n",
      "C --> C \t\t0 \t\t\t\t  C  \n",
      "C --> D \t\t1 \t\t\t\t  C  D  \n",
      "C --> E \t\t2 \t\t\t\t  C  E  \n",
      "C --> F \t\t4 \t\t\t\t  C  D  F  \n",
      "C --> G \t\t9 \t\t\t\t  C  D  F  G  \n",
      "C --> H \t\t13 \t\t\t\t  C  D  F  G  H  \n",
      "C --> I \t\t8 \t\t\t\t  C  D  F  I  "
     ]
    }
   ],
   "source": [
    "g.dijkstra('C');"
   ]
  },
  {
   "cell_type": "markdown",
   "metadata": {},
   "source": [
    "# Reading Input File-2(Directed)"
   ]
  },
  {
   "cell_type": "code",
   "execution_count": 74,
   "metadata": {},
   "outputs": [],
   "source": [
    "file = open(\"Input_File_Dir_1.rtf\", 'r')"
   ]
  },
  {
   "cell_type": "code",
   "execution_count": 75,
   "metadata": {},
   "outputs": [],
   "source": [
    "Dir_graph = 0\n",
    "lines = file.readlines()\n",
    "list1 = lines[0].split()\n",
    "if list1[2] == 'D':\n",
    "    Dir_graph = 1"
   ]
  },
  {
   "cell_type": "code",
   "execution_count": 76,
   "metadata": {},
   "outputs": [
    {
     "name": "stdout",
     "output_type": "stream",
     "text": [
      "8\n"
     ]
    }
   ],
   "source": [
    "import numpy as np\n",
    "g_size = int(lines[0][0].split()[0])\n",
    "g = Graph(g_size)\n",
    "print(int(lines[0][0].split()[0]))"
   ]
  },
  {
   "cell_type": "code",
   "execution_count": 77,
   "metadata": {},
   "outputs": [],
   "source": [
    "if Dir_graph == 1:\n",
    "    for i in range(1,len(lines)):\n",
    "        line = lines[i]\n",
    "        i,j,val = line.split()\n",
    "        g.addEdge(ord(i.upper())-65,ord(j.upper())-65,int(val))\n",
    "else :\n",
    "    for i in range(1,len(lines)):\n",
    "        line = lines[i]\n",
    "        i,j,val = line.split()\n",
    "        g.addEdge(ord(i.upper())-65,ord(j.upper())-65,int(val))\n",
    "        g.addEdge(ord(j.upper())-65,ord(i.upper())-65,int(val))"
   ]
  },
  {
   "cell_type": "markdown",
   "metadata": {},
   "source": [
    "## Call Dijkstra's Algorithm from Source Node 'A','C','E'"
   ]
  },
  {
   "cell_type": "code",
   "execution_count": 78,
   "metadata": {},
   "outputs": [
    {
     "name": "stdout",
     "output_type": "stream",
     "text": [
      "Vertex \t\tDistance from Source\t\t\t  Path\n",
      "\n",
      "A --> A \t\t0 \t\t\t\t  A  \n",
      "A --> B \t\t4 \t\t\t\t  A  B  \n",
      "A --> C \t\t3 \t\t\t\t  A  C  \n",
      "A --> D \t\t9 \t\t\t\t  A  B  D  \n",
      "A --> E \t\t7 \t\t\t\t  A  E  \n",
      "A --> F \t\t11 \t\t\t\t  A  B  D  F  \n",
      "A --> G \t\t12 \t\t\t\t  A  E  G  \n",
      "A --> H \t\t22 \t\t\t\t  A  E  G  H  "
     ]
    }
   ],
   "source": [
    "g.dijkstra('A');"
   ]
  },
  {
   "cell_type": "code",
   "execution_count": 79,
   "metadata": {},
   "outputs": [
    {
     "name": "stdout",
     "output_type": "stream",
     "text": [
      "Vertex \t\tDistance from Source\t\t\t  Path\n",
      "\n",
      "C --> A \t\t9223372036854775807 \t\t\t\t  UNREACHABLE\n",
      "C --> B \t\t9223372036854775807 \t\t\t\t  UNREACHABLE\n",
      "C --> C \t\t0 \t\t\t\t  C  \n",
      "C --> D \t\t11 \t\t\t\t  C  D  \n",
      "C --> E \t\t8 \t\t\t\t  C  E  \n",
      "C --> F \t\t13 \t\t\t\t  C  D  F  \n",
      "C --> G \t\t13 \t\t\t\t  C  E  G  \n",
      "C --> H \t\t23 \t\t\t\t  C  E  G  H  "
     ]
    }
   ],
   "source": [
    "g.dijkstra('C');"
   ]
  },
  {
   "cell_type": "code",
   "execution_count": 80,
   "metadata": {},
   "outputs": [
    {
     "name": "stdout",
     "output_type": "stream",
     "text": [
      "Vertex \t\tDistance from Source\t\t\t  Path\n",
      "\n",
      "E --> A \t\t9223372036854775807 \t\t\t\t  UNREACHABLE\n",
      "E --> B \t\t9223372036854775807 \t\t\t\t  UNREACHABLE\n",
      "E --> C \t\t9223372036854775807 \t\t\t\t  UNREACHABLE\n",
      "E --> D \t\t9223372036854775807 \t\t\t\t  UNREACHABLE\n",
      "E --> E \t\t0 \t\t\t\t  E  \n",
      "E --> F \t\t9223372036854775807 \t\t\t\t  UNREACHABLE\n",
      "E --> G \t\t5 \t\t\t\t  E  G  \n",
      "E --> H \t\t15 \t\t\t\t  E  G  H  "
     ]
    }
   ],
   "source": [
    "g.dijkstra('E');"
   ]
  },
  {
   "cell_type": "markdown",
   "metadata": {},
   "source": [
    "# Reading Input File-2(UnDirected)"
   ]
  },
  {
   "cell_type": "code",
   "execution_count": 81,
   "metadata": {},
   "outputs": [],
   "source": [
    "file = open(\"Input_File_UnDir_1.rtf\", 'r')"
   ]
  },
  {
   "cell_type": "code",
   "execution_count": 82,
   "metadata": {},
   "outputs": [],
   "source": [
    "Dir_graph = 0\n",
    "lines = file.readlines()\n",
    "list1 = lines[0].split()\n",
    "if list1[2] == 'D':\n",
    "    Dir_graph = 1"
   ]
  },
  {
   "cell_type": "code",
   "execution_count": 83,
   "metadata": {},
   "outputs": [
    {
     "name": "stdout",
     "output_type": "stream",
     "text": [
      "7\n"
     ]
    }
   ],
   "source": [
    "import numpy as np\n",
    "g_size = int(lines[0][0].split()[0])\n",
    "g = Graph(g_size)\n",
    "print(int(lines[0][0].split()[0]))"
   ]
  },
  {
   "cell_type": "code",
   "execution_count": 84,
   "metadata": {},
   "outputs": [],
   "source": [
    "if Dir_graph == 1:\n",
    "    for i in range(1,len(lines)):\n",
    "        line = lines[i]\n",
    "        i,j,val = line.split()\n",
    "        g.addEdge(ord(i.upper())-65,ord(j.upper())-65,int(val))\n",
    "else :\n",
    "    for i in range(1,len(lines)):\n",
    "        line = lines[i]\n",
    "        i,j,val = line.split()\n",
    "        g.addEdge(ord(i.upper())-65,ord(j.upper())-65,int(val))\n",
    "        g.addEdge(ord(j.upper())-65,ord(i.upper())-65,int(val))"
   ]
  },
  {
   "cell_type": "markdown",
   "metadata": {},
   "source": [
    "## Call Dijkstra's Algorithm from Source Node 'A', 'C', 'E'"
   ]
  },
  {
   "cell_type": "code",
   "execution_count": 85,
   "metadata": {},
   "outputs": [
    {
     "name": "stdout",
     "output_type": "stream",
     "text": [
      "Vertex \t\tDistance from Source\t\t\t  Path\n",
      "\n",
      "A --> A \t\t0 \t\t\t\t  A  \n",
      "A --> B \t\t4 \t\t\t\t  A  B  \n",
      "A --> C \t\t3 \t\t\t\t  A  C  \n",
      "A --> D \t\t9 \t\t\t\t  A  B  D  \n",
      "A --> E \t\t7 \t\t\t\t  A  E  \n",
      "A --> F \t\t11 \t\t\t\t  A  B  D  F  \n",
      "A --> G \t\t12 \t\t\t\t  A  E  G  "
     ]
    }
   ],
   "source": [
    "g.dijkstra('A');"
   ]
  },
  {
   "cell_type": "code",
   "execution_count": 86,
   "metadata": {},
   "outputs": [
    {
     "name": "stdout",
     "output_type": "stream",
     "text": [
      "Vertex \t\tDistance from Source\t\t\t  Path\n",
      "\n",
      "C --> A \t\t3 \t\t\t\t  C  A  \n",
      "C --> B \t\t6 \t\t\t\t  C  B  \n",
      "C --> C \t\t0 \t\t\t\t  C  \n",
      "C --> D \t\t10 \t\t\t\t  C  E  D  \n",
      "C --> E \t\t8 \t\t\t\t  C  E  \n",
      "C --> F \t\t12 \t\t\t\t  C  E  D  F  \n",
      "C --> G \t\t13 \t\t\t\t  C  E  G  "
     ]
    }
   ],
   "source": [
    "g.dijkstra('C');"
   ]
  },
  {
   "cell_type": "code",
   "execution_count": 87,
   "metadata": {},
   "outputs": [
    {
     "name": "stdout",
     "output_type": "stream",
     "text": [
      "Vertex \t\tDistance from Source\t\t\t  Path\n",
      "\n",
      "E --> A \t\t7 \t\t\t\t  E  A  \n",
      "E --> B \t\t7 \t\t\t\t  E  D  B  \n",
      "E --> C \t\t8 \t\t\t\t  E  C  \n",
      "E --> D \t\t2 \t\t\t\t  E  D  \n",
      "E --> E \t\t0 \t\t\t\t  E  \n",
      "E --> F \t\t4 \t\t\t\t  E  D  F  \n",
      "E --> G \t\t5 \t\t\t\t  E  G  "
     ]
    }
   ],
   "source": [
    "g.dijkstra('E');"
   ]
  },
  {
   "cell_type": "markdown",
   "metadata": {},
   "source": [
    "# Reading Input File-3(Directed)"
   ]
  },
  {
   "cell_type": "code",
   "execution_count": 88,
   "metadata": {},
   "outputs": [],
   "source": [
    "file = open(\"Input_File_Dir_2.rtf\", 'r')"
   ]
  },
  {
   "cell_type": "code",
   "execution_count": 89,
   "metadata": {},
   "outputs": [],
   "source": [
    "Dir_graph = 0\n",
    "lines = file.readlines()\n",
    "list1 = lines[0].split()\n",
    "if list1[2] == 'D':\n",
    "    Dir_graph = 1"
   ]
  },
  {
   "cell_type": "code",
   "execution_count": 90,
   "metadata": {},
   "outputs": [
    {
     "name": "stdout",
     "output_type": "stream",
     "text": [
      "9\n"
     ]
    }
   ],
   "source": [
    "import numpy as np\n",
    "g_size = int(lines[0][0].split()[0])\n",
    "g = Graph(g_size)\n",
    "print(int(lines[0][0].split()[0]))"
   ]
  },
  {
   "cell_type": "code",
   "execution_count": 91,
   "metadata": {},
   "outputs": [],
   "source": [
    "if Dir_graph == 1:\n",
    "    for i in range(1,len(lines)):\n",
    "        line = lines[i]\n",
    "        i,j,val = line.split()\n",
    "        g.addEdge(ord(i.upper())-65,ord(j.upper())-65,int(val))\n",
    "else :\n",
    "    for i in range(1,len(lines)):\n",
    "        line = lines[i]\n",
    "        i,j,val = line.split()\n",
    "        g.addEdge(ord(i.upper())-65,ord(j.upper())-65,int(val))\n",
    "        g.addEdge(ord(j.upper())-65,ord(i.upper())-65,int(val))"
   ]
  },
  {
   "cell_type": "markdown",
   "metadata": {},
   "source": [
    "## Call Dijkstra's Algorithm from Source Node 'A','D','F'"
   ]
  },
  {
   "cell_type": "code",
   "execution_count": 92,
   "metadata": {},
   "outputs": [
    {
     "name": "stdout",
     "output_type": "stream",
     "text": [
      "Vertex \t\tDistance from Source\t\t\t  Path\n",
      "\n",
      "A --> A \t\t0 \t\t\t\t  A  \n",
      "A --> B \t\t4 \t\t\t\t  A  B  \n",
      "A --> C \t\t12 \t\t\t\t  A  B  C  \n",
      "A --> D \t\t19 \t\t\t\t  A  B  C  D  \n",
      "A --> E \t\t28 \t\t\t\t  A  B  C  D  E  \n",
      "A --> F \t\t16 \t\t\t\t  A  B  C  F  \n",
      "A --> G \t\t18 \t\t\t\t  A  B  C  F  G  \n",
      "A --> H \t\t8 \t\t\t\t  A  H  \n",
      "A --> I \t\t14 \t\t\t\t  A  B  C  I  "
     ]
    }
   ],
   "source": [
    "g.dijkstra('A');"
   ]
  },
  {
   "cell_type": "code",
   "execution_count": 93,
   "metadata": {},
   "outputs": [
    {
     "name": "stdout",
     "output_type": "stream",
     "text": [
      "Vertex \t\tDistance from Source\t\t\t  Path\n",
      "\n",
      "D --> A \t\t9223372036854775807 \t\t\t\t  UNREACHABLE\n",
      "D --> B \t\t9223372036854775807 \t\t\t\t  UNREACHABLE\n",
      "D --> C \t\t9223372036854775807 \t\t\t\t  UNREACHABLE\n",
      "D --> D \t\t0 \t\t\t\t  D  \n",
      "D --> E \t\t9 \t\t\t\t  D  E  \n",
      "D --> F \t\t14 \t\t\t\t  D  F  \n",
      "D --> G \t\t16 \t\t\t\t  D  G  \n",
      "D --> H \t\t17 \t\t\t\t  D  G  H  \n",
      "D --> I \t\t22 \t\t\t\t  D  G  I  "
     ]
    }
   ],
   "source": [
    "g.dijkstra('D');"
   ]
  },
  {
   "cell_type": "code",
   "execution_count": 94,
   "metadata": {},
   "outputs": [
    {
     "name": "stdout",
     "output_type": "stream",
     "text": [
      "Vertex \t\tDistance from Source\t\t\t  Path\n",
      "\n",
      "F --> A \t\t9223372036854775807 \t\t\t\t  UNREACHABLE\n",
      "F --> B \t\t9223372036854775807 \t\t\t\t  UNREACHABLE\n",
      "F --> C \t\t9223372036854775807 \t\t\t\t  UNREACHABLE\n",
      "F --> D \t\t9223372036854775807 \t\t\t\t  UNREACHABLE\n",
      "F --> E \t\t9223372036854775807 \t\t\t\t  UNREACHABLE\n",
      "F --> F \t\t0 \t\t\t\t  F  \n",
      "F --> G \t\t2 \t\t\t\t  F  G  \n",
      "F --> H \t\t3 \t\t\t\t  F  G  H  \n",
      "F --> I \t\t8 \t\t\t\t  F  G  I  "
     ]
    }
   ],
   "source": [
    "g.dijkstra('F');"
   ]
  },
  {
   "cell_type": "markdown",
   "metadata": {},
   "source": [
    "# Reading Input File-3(UnDirected)"
   ]
  },
  {
   "cell_type": "code",
   "execution_count": 95,
   "metadata": {},
   "outputs": [],
   "source": [
    "file = open(\"Input_File_UnDir_2.rtf\", 'r')"
   ]
  },
  {
   "cell_type": "code",
   "execution_count": 96,
   "metadata": {},
   "outputs": [],
   "source": [
    "Dir_graph = 0\n",
    "lines = file.readlines()\n",
    "list1 = lines[0].split()\n",
    "if list1[2] == 'D':\n",
    "    Dir_graph = 1"
   ]
  },
  {
   "cell_type": "code",
   "execution_count": 97,
   "metadata": {},
   "outputs": [
    {
     "name": "stdout",
     "output_type": "stream",
     "text": [
      "9\n"
     ]
    }
   ],
   "source": [
    "import numpy as np\n",
    "g_size = int(lines[0][0].split()[0])\n",
    "g = Graph(g_size)\n",
    "print(int(lines[0][0].split()[0]))"
   ]
  },
  {
   "cell_type": "code",
   "execution_count": 98,
   "metadata": {},
   "outputs": [],
   "source": [
    "if Dir_graph == 1:\n",
    "    for i in range(1,len(lines)):\n",
    "        line = lines[i]\n",
    "        i,j,val = line.split()\n",
    "        g.addEdge(ord(i.upper())-65,ord(j.upper())-65,int(val))\n",
    "else :\n",
    "    for i in range(1,len(lines)):\n",
    "        line = lines[i]\n",
    "        i,j,val = line.split()\n",
    "        g.addEdge(ord(i.upper())-65,ord(j.upper())-65,int(val))\n",
    "        g.addEdge(ord(j.upper())-65,ord(i.upper())-65,int(val))"
   ]
  },
  {
   "cell_type": "markdown",
   "metadata": {},
   "source": [
    "## Call Dijkstra's Algorithm from Source Node 'A', 'D', 'F'"
   ]
  },
  {
   "cell_type": "code",
   "execution_count": 99,
   "metadata": {},
   "outputs": [
    {
     "name": "stdout",
     "output_type": "stream",
     "text": [
      "Vertex \t\tDistance from Source\t\t\t  Path\n",
      "\n",
      "A --> A \t\t0 \t\t\t\t  A  \n",
      "A --> B \t\t4 \t\t\t\t  A  B  \n",
      "A --> C \t\t12 \t\t\t\t  A  B  C  \n",
      "A --> D \t\t19 \t\t\t\t  A  B  C  D  \n",
      "A --> E \t\t21 \t\t\t\t  A  H  G  F  E  \n",
      "A --> F \t\t11 \t\t\t\t  A  H  G  F  \n",
      "A --> G \t\t9 \t\t\t\t  A  H  G  \n",
      "A --> H \t\t8 \t\t\t\t  A  H  \n",
      "A --> I \t\t14 \t\t\t\t  A  B  C  I  "
     ]
    }
   ],
   "source": [
    "g.dijkstra('A');"
   ]
  },
  {
   "cell_type": "code",
   "execution_count": 100,
   "metadata": {},
   "outputs": [
    {
     "name": "stdout",
     "output_type": "stream",
     "text": [
      "Vertex \t\tDistance from Source\t\t\t  Path\n",
      "\n",
      "D --> A \t\t19 \t\t\t\t  D  C  B  A  \n",
      "D --> B \t\t15 \t\t\t\t  D  C  B  \n",
      "D --> C \t\t7 \t\t\t\t  D  C  \n",
      "D --> D \t\t0 \t\t\t\t  D  \n",
      "D --> E \t\t9 \t\t\t\t  D  E  \n",
      "D --> F \t\t11 \t\t\t\t  D  C  F  \n",
      "D --> G \t\t13 \t\t\t\t  D  C  F  G  \n",
      "D --> H \t\t14 \t\t\t\t  D  C  F  G  H  \n",
      "D --> I \t\t9 \t\t\t\t  D  C  I  "
     ]
    }
   ],
   "source": [
    "g.dijkstra('D');"
   ]
  },
  {
   "cell_type": "code",
   "execution_count": 101,
   "metadata": {},
   "outputs": [
    {
     "name": "stdout",
     "output_type": "stream",
     "text": [
      "Vertex \t\tDistance from Source\t\t\t  Path\n",
      "\n",
      "F --> A \t\t11 \t\t\t\t  F  G  H  A  \n",
      "F --> B \t\t12 \t\t\t\t  F  C  B  \n",
      "F --> C \t\t4 \t\t\t\t  F  C  \n",
      "F --> D \t\t11 \t\t\t\t  F  C  D  \n",
      "F --> E \t\t10 \t\t\t\t  F  E  \n",
      "F --> F \t\t0 \t\t\t\t  F  \n",
      "F --> G \t\t2 \t\t\t\t  F  G  \n",
      "F --> H \t\t3 \t\t\t\t  F  G  H  \n",
      "F --> I \t\t6 \t\t\t\t  F  C  I  "
     ]
    }
   ],
   "source": [
    "g.dijkstra('F');"
   ]
  },
  {
   "cell_type": "markdown",
   "metadata": {},
   "source": [
    "# Reading Input File-4(Directed)"
   ]
  },
  {
   "cell_type": "code",
   "execution_count": 102,
   "metadata": {},
   "outputs": [],
   "source": [
    "file = open(\"Input_File_Dir_3.rtf\", 'r')"
   ]
  },
  {
   "cell_type": "code",
   "execution_count": 103,
   "metadata": {},
   "outputs": [],
   "source": [
    "Dir_graph = 0\n",
    "lines = file.readlines()\n",
    "list1 = lines[0].split()\n",
    "if list1[2] == 'D':\n",
    "    Dir_graph = 1"
   ]
  },
  {
   "cell_type": "code",
   "execution_count": 104,
   "metadata": {},
   "outputs": [
    {
     "name": "stdout",
     "output_type": "stream",
     "text": [
      "9\n"
     ]
    }
   ],
   "source": [
    "import numpy as np\n",
    "g_size = int(lines[0][0].split()[0])\n",
    "g = Graph(g_size)\n",
    "print(int(lines[0][0].split()[0]))"
   ]
  },
  {
   "cell_type": "code",
   "execution_count": 105,
   "metadata": {},
   "outputs": [],
   "source": [
    "if Dir_graph == 1:\n",
    "    for i in range(1,len(lines)):\n",
    "        line = lines[i]\n",
    "        i,j,val = line.split()\n",
    "        g.addEdge(ord(i.upper())-65,ord(j.upper())-65,int(val))\n",
    "else :\n",
    "    for i in range(1,len(lines)):\n",
    "        line = lines[i]\n",
    "        i,j,val = line.split()\n",
    "        g.addEdge(ord(i.upper())-65,ord(j.upper())-65,int(val))\n",
    "        g.addEdge(ord(j.upper())-65,ord(i.upper())-65,int(val))"
   ]
  },
  {
   "cell_type": "markdown",
   "metadata": {},
   "source": [
    "## Call Dijkstra's Algorithm from Source Node 'A','D','F'"
   ]
  },
  {
   "cell_type": "code",
   "execution_count": 106,
   "metadata": {},
   "outputs": [
    {
     "name": "stdout",
     "output_type": "stream",
     "text": [
      "Vertex \t\tDistance from Source\t\t\t  Path\n",
      "\n",
      "A --> A \t\t0 \t\t\t\t  A  \n",
      "A --> B \t\t1 \t\t\t\t  A  B  \n",
      "A --> C \t\t2 \t\t\t\t  A  B  C  \n",
      "A --> D \t\t8 \t\t\t\t  A  B  D  \n",
      "A --> E \t\t5 \t\t\t\t  A  B  C  E  \n",
      "A --> F \t\t7 \t\t\t\t  A  B  C  E  F  \n",
      "A --> G \t\t3 \t\t\t\t  A  B  G  \n",
      "A --> H \t\t16 \t\t\t\t  A  B  C  E  F  H  \n",
      "A --> I \t\t34 \t\t\t\t  A  B  C  E  F  H  I  "
     ]
    }
   ],
   "source": [
    "g.dijkstra('A');"
   ]
  },
  {
   "cell_type": "code",
   "execution_count": 107,
   "metadata": {},
   "outputs": [
    {
     "name": "stdout",
     "output_type": "stream",
     "text": [
      "Vertex \t\tDistance from Source\t\t\t  Path\n",
      "\n",
      "D --> A \t\t9223372036854775807 \t\t\t\t  UNREACHABLE\n",
      "D --> B \t\t9223372036854775807 \t\t\t\t  UNREACHABLE\n",
      "D --> C \t\t9223372036854775807 \t\t\t\t  UNREACHABLE\n",
      "D --> D \t\t0 \t\t\t\t  D  \n",
      "D --> E \t\t2 \t\t\t\t  D  E  \n",
      "D --> F \t\t1 \t\t\t\t  D  F  \n",
      "D --> G \t\t13 \t\t\t\t  D  F  G  \n",
      "D --> H \t\t10 \t\t\t\t  D  F  H  \n",
      "D --> I \t\t28 \t\t\t\t  D  F  H  I  "
     ]
    }
   ],
   "source": [
    "g.dijkstra('D');"
   ]
  },
  {
   "cell_type": "code",
   "execution_count": 108,
   "metadata": {},
   "outputs": [
    {
     "name": "stdout",
     "output_type": "stream",
     "text": [
      "Vertex \t\tDistance from Source\t\t\t  Path\n",
      "\n",
      "F --> A \t\t9223372036854775807 \t\t\t\t  UNREACHABLE\n",
      "F --> B \t\t9223372036854775807 \t\t\t\t  UNREACHABLE\n",
      "F --> C \t\t9223372036854775807 \t\t\t\t  UNREACHABLE\n",
      "F --> D \t\t9223372036854775807 \t\t\t\t  UNREACHABLE\n",
      "F --> E \t\t9223372036854775807 \t\t\t\t  UNREACHABLE\n",
      "F --> F \t\t0 \t\t\t\t  F  \n",
      "F --> G \t\t12 \t\t\t\t  F  G  \n",
      "F --> H \t\t9 \t\t\t\t  F  H  \n",
      "F --> I \t\t27 \t\t\t\t  F  H  I  "
     ]
    }
   ],
   "source": [
    "g.dijkstra('F');"
   ]
  },
  {
   "cell_type": "markdown",
   "metadata": {},
   "source": [
    "# Reading Input File-4(UnDirected)"
   ]
  },
  {
   "cell_type": "code",
   "execution_count": 109,
   "metadata": {},
   "outputs": [],
   "source": [
    "file = open(\"Input_File_UnDir_3.rtf\", 'r')"
   ]
  },
  {
   "cell_type": "code",
   "execution_count": 110,
   "metadata": {},
   "outputs": [],
   "source": [
    "Dir_graph = 0\n",
    "lines = file.readlines()\n",
    "list1 = lines[0].split()\n",
    "if list1[2] == 'D':\n",
    "    Dir_graph = 1"
   ]
  },
  {
   "cell_type": "code",
   "execution_count": 111,
   "metadata": {},
   "outputs": [
    {
     "name": "stdout",
     "output_type": "stream",
     "text": [
      "7\n"
     ]
    }
   ],
   "source": [
    "import numpy as np\n",
    "g_size = int(lines[0][0].split()[0])\n",
    "g = Graph(g_size)\n",
    "print(int(lines[0][0].split()[0]))"
   ]
  },
  {
   "cell_type": "code",
   "execution_count": 112,
   "metadata": {},
   "outputs": [],
   "source": [
    "if Dir_graph == 1:\n",
    "    for i in range(1,len(lines)):\n",
    "        line = lines[i]\n",
    "        i,j,val = line.split()\n",
    "        g.addEdge(ord(i.upper())-65,ord(j.upper())-65,int(val))\n",
    "else :\n",
    "    for i in range(1,len(lines)):\n",
    "        line = lines[i]\n",
    "        i,j,val = line.split()\n",
    "        g.addEdge(ord(i.upper())-65,ord(j.upper())-65,int(val))\n",
    "        g.addEdge(ord(j.upper())-65,ord(i.upper())-65,int(val))"
   ]
  },
  {
   "cell_type": "markdown",
   "metadata": {},
   "source": [
    "## Call Dijkstra's Algorithm from Source Node 'A', 'D', 'F'"
   ]
  },
  {
   "cell_type": "code",
   "execution_count": 113,
   "metadata": {},
   "outputs": [
    {
     "name": "stdout",
     "output_type": "stream",
     "text": [
      "Vertex \t\tDistance from Source\t\t\t  Path\n",
      "\n",
      "A --> A \t\t0 \t\t\t\t  A  \n",
      "A --> B \t\t1 \t\t\t\t  A  B  \n",
      "A --> C \t\t2 \t\t\t\t  A  B  C  \n",
      "A --> D \t\t7 \t\t\t\t  A  B  C  E  D  \n",
      "A --> E \t\t5 \t\t\t\t  A  B  C  E  \n",
      "A --> F \t\t7 \t\t\t\t  A  B  C  E  F  \n",
      "A --> G \t\t3 \t\t\t\t  A  B  G  "
     ]
    }
   ],
   "source": [
    "g.dijkstra('A');"
   ]
  },
  {
   "cell_type": "code",
   "execution_count": 114,
   "metadata": {},
   "outputs": [
    {
     "name": "stdout",
     "output_type": "stream",
     "text": [
      "Vertex \t\tDistance from Source\t\t\t  Path\n",
      "\n",
      "D --> A \t\t7 \t\t\t\t  D  E  C  B  A  \n",
      "D --> B \t\t6 \t\t\t\t  D  E  C  B  \n",
      "D --> C \t\t5 \t\t\t\t  D  E  C  \n",
      "D --> D \t\t0 \t\t\t\t  D  \n",
      "D --> E \t\t2 \t\t\t\t  D  E  \n",
      "D --> F \t\t1 \t\t\t\t  D  F  \n",
      "D --> G \t\t8 \t\t\t\t  D  E  C  B  G  "
     ]
    }
   ],
   "source": [
    "g.dijkstra('D');"
   ]
  },
  {
   "cell_type": "code",
   "execution_count": 115,
   "metadata": {},
   "outputs": [
    {
     "name": "stdout",
     "output_type": "stream",
     "text": [
      "Vertex \t\tDistance from Source\t\t\t  Path\n",
      "\n",
      "F --> A \t\t7 \t\t\t\t  F  E  C  B  A  \n",
      "F --> B \t\t6 \t\t\t\t  F  E  C  B  \n",
      "F --> C \t\t5 \t\t\t\t  F  E  C  \n",
      "F --> D \t\t1 \t\t\t\t  F  D  \n",
      "F --> E \t\t2 \t\t\t\t  F  E  \n",
      "F --> F \t\t0 \t\t\t\t  F  \n",
      "F --> G \t\t8 \t\t\t\t  F  E  C  B  G  "
     ]
    }
   ],
   "source": [
    "g.dijkstra('F');"
   ]
  }
 ],
 "metadata": {
  "kernelspec": {
   "display_name": "Python 3",
   "language": "python",
   "name": "python3"
  },
  "language_info": {
   "codemirror_mode": {
    "name": "ipython",
    "version": 3
   },
   "file_extension": ".py",
   "mimetype": "text/x-python",
   "name": "python",
   "nbconvert_exporter": "python",
   "pygments_lexer": "ipython3",
   "version": "3.7.3"
  }
 },
 "nbformat": 4,
 "nbformat_minor": 2
}
