{
 "cells": [
  {
   "cell_type": "markdown",
   "metadata": {},
   "source": [
    "# PROJECT 2 : GRAPH ALGORITHMS\n",
    "\n",
    "#### TEAM MEMBERS  :  TANVI RASAM, CHAITANYA DARADE"
   ]
  },
  {
   "cell_type": "markdown",
   "metadata": {},
   "source": [
    "# Source Code For KruskalMST Algorithm"
   ]
  },
  {
   "cell_type": "code",
   "execution_count": 1,
   "metadata": {},
   "outputs": [],
   "source": [
    "from collections import defaultdict \n",
    "import numpy as np\n",
    "\n",
    "\n",
    "#Class to represent a graph \n",
    "class Graph: \n",
    "  \n",
    "    def __init__(self,vertices): \n",
    "        self.V= vertices #No. of vertices \n",
    "        self.graph = [] # default dictionary  \n",
    "                                # to store graph\n",
    "          \n",
    "   \n",
    "    # function to add an edge to graph \n",
    "    def addEdge(self,u,v,w): \n",
    "        self.graph.append([u,v,w]) \n",
    "  \n",
    "    # A utility function to find set of an element i \n",
    "    # (uses path compression technique) \n",
    "    def find(self, parent, i): \n",
    "        if parent[i] == i: \n",
    "            return i \n",
    "        return self.find(parent, parent[i]) \n",
    "  \n",
    "    # A function that does union of two sets of x and y \n",
    "    # (uses union by rank) \n",
    "    def union(self, parent, rank, x, y): \n",
    "        xroot = self.find(parent, x) \n",
    "        yroot = self.find(parent, y) \n",
    "  \n",
    "        # Attach smaller rank tree under root of  \n",
    "        # high rank tree (Union by Rank) \n",
    "        if rank[xroot] < rank[yroot]: \n",
    "            parent[xroot] = yroot \n",
    "        elif rank[xroot] > rank[yroot]: \n",
    "            parent[yroot] = xroot \n",
    "  \n",
    "        # If ranks are same, then make one as root  \n",
    "        # and increment its rank by one \n",
    "        else : \n",
    "            parent[yroot] = xroot \n",
    "            rank[xroot] += 1\n",
    "  \n",
    "    # The main function to construct MST using Kruskal's  \n",
    "        # algorithm \n",
    "    def KruskalMST(self): \n",
    "  \n",
    "        result =[] #This will store the resultant MST \n",
    "  \n",
    "        i = 0 # An index variable, used for sorted edges \n",
    "        e = 0 # An index variable, used for result[] \n",
    "  \n",
    "            # Step 1:  Sort all the edges in non-decreasing  \n",
    "                # order of their \n",
    "                # weight.  If we are not allowed to change the  \n",
    "                # given graph, we can create a copy of graph \n",
    "        self.graph =  sorted(self.graph,key=lambda item: item[2]) \n",
    "  \n",
    "        parent = [] ; rank = [] \n",
    "  \n",
    "        # Create V subsets with single elements \n",
    "        for node in range(self.V): \n",
    "            parent.append(node) \n",
    "            rank.append(0) \n",
    "      \n",
    "        # Number of edges to be taken is equal to V-1 \n",
    "        while e < self.V -1 : \n",
    "  \n",
    "            # Step 2: Pick the smallest edge and increment  \n",
    "                    # the index for next iteration \n",
    "            u,v,w =  self.graph[i] \n",
    "            i = i + 1\n",
    "            x = self.find(parent, u) \n",
    "            y = self.find(parent ,v) \n",
    "  \n",
    "            # If including this edge does't cause cycle,  \n",
    "                        # include it in result and increment the index \n",
    "                        # of result for next edge \n",
    "            if x != y: \n",
    "                e = e + 1     \n",
    "                result.append([u,v,w]) \n",
    "                self.union(parent, rank, x, y)             \n",
    "            # Else discard the edge \n",
    "  \n",
    "        # print the contents of result[] to display the built MST \n",
    "        print(\"Following are the edges in the constructed MST\")\n",
    "        total_weight = 0\n",
    "        for u,v,weight  in result: \n",
    "            print (\"%s -- %s == %d\" % (chr(u+65),chr(v+65),weight)) \n",
    "            total_weight+=weight\n",
    "        print(\"Total Cost of MST == %d\" % total_weight )"
   ]
  },
  {
   "cell_type": "markdown",
   "metadata": {},
   "source": [
    "# Reading Input File-1(UnDirected) and Creating Adjacency Matrix"
   ]
  },
  {
   "cell_type": "code",
   "execution_count": 2,
   "metadata": {},
   "outputs": [],
   "source": [
    "file = open(\"Input_File_UnDir_0.rtf\", 'r')"
   ]
  },
  {
   "cell_type": "code",
   "execution_count": 3,
   "metadata": {},
   "outputs": [],
   "source": [
    "lines = file.readlines()"
   ]
  },
  {
   "cell_type": "code",
   "execution_count": 4,
   "metadata": {},
   "outputs": [],
   "source": [
    "g_size = int(lines[0][0].split()[0])\n",
    "g = Graph(g_size)"
   ]
  },
  {
   "cell_type": "code",
   "execution_count": 5,
   "metadata": {},
   "outputs": [],
   "source": [
    "for i in range(1,len(lines)):\n",
    "    line = lines[i]\n",
    "    i,j,val = line.split()\n",
    "    g.addEdge(ord(i.upper())-65,ord(j.upper())-65,int(val))\n",
    "    g.addEdge(ord(j.upper())-65,ord(i.upper())-65,int(val))"
   ]
  },
  {
   "cell_type": "code",
   "execution_count": 6,
   "metadata": {},
   "outputs": [
    {
     "name": "stdout",
     "output_type": "stream",
     "text": [
      "[[0, 1, 1], [1, 0, 1], [0, 2, 2], [2, 0, 2], [1, 2, 1], [2, 1, 1], [1, 3, 3], [3, 1, 3], [1, 4, 2], [4, 1, 2], [2, 3, 1], [3, 2, 1], [2, 4, 2], [4, 2, 2], [3, 4, 4], [4, 3, 4], [3, 5, 3], [5, 3, 3], [4, 5, 3], [5, 4, 3], [5, 6, 5], [6, 5, 5], [5, 8, 4], [8, 5, 4], [6, 7, 4], [7, 6, 4], [6, 8, 6], [8, 6, 6]]\n"
     ]
    }
   ],
   "source": [
    "print(g.graph)"
   ]
  },
  {
   "cell_type": "markdown",
   "metadata": {},
   "source": [
    "## Call Kruscal's Algorithm to find MST"
   ]
  },
  {
   "cell_type": "code",
   "execution_count": 7,
   "metadata": {},
   "outputs": [
    {
     "name": "stdout",
     "output_type": "stream",
     "text": [
      "Following are the edges in the constructed MST\n",
      "A -- B == 1\n",
      "B -- C == 1\n",
      "C -- D == 1\n",
      "B -- E == 2\n",
      "D -- F == 3\n",
      "F -- I == 4\n",
      "G -- H == 4\n",
      "F -- G == 5\n",
      "Total Cost of MST == 21\n"
     ]
    }
   ],
   "source": [
    "g.KruskalMST()"
   ]
  },
  {
   "cell_type": "markdown",
   "metadata": {},
   "source": [
    "# Reading Input File-2(UnDirected) and Creating Adjacency Matrix"
   ]
  },
  {
   "cell_type": "code",
   "execution_count": 8,
   "metadata": {},
   "outputs": [],
   "source": [
    "file = open(\"Input_File_UnDir_1.rtf\", 'r')"
   ]
  },
  {
   "cell_type": "code",
   "execution_count": 9,
   "metadata": {},
   "outputs": [],
   "source": [
    "lines = file.readlines()"
   ]
  },
  {
   "cell_type": "code",
   "execution_count": 10,
   "metadata": {},
   "outputs": [],
   "source": [
    "g_size = int(lines[0][0].split()[0])\n",
    "g = Graph(g_size)"
   ]
  },
  {
   "cell_type": "code",
   "execution_count": 11,
   "metadata": {},
   "outputs": [],
   "source": [
    "for i in range(1,len(lines)):\n",
    "    line = lines[i]\n",
    "    i,j,val = line.split()\n",
    "    g.addEdge(ord(i.upper())-65,ord(j.upper())-65,int(val))\n",
    "    g.addEdge(ord(j.upper())-65,ord(i.upper())-65,int(val))"
   ]
  },
  {
   "cell_type": "code",
   "execution_count": 12,
   "metadata": {},
   "outputs": [
    {
     "name": "stdout",
     "output_type": "stream",
     "text": [
      "[[0, 1, 4], [1, 0, 4], [0, 2, 3], [2, 0, 3], [0, 4, 7], [4, 0, 7], [1, 2, 6], [2, 1, 6], [1, 3, 5], [3, 1, 5], [2, 3, 11], [3, 2, 11], [2, 4, 8], [4, 2, 8], [3, 4, 2], [4, 3, 2], [3, 5, 2], [5, 3, 2], [3, 6, 10], [6, 3, 10], [4, 6, 5], [6, 4, 5], [5, 6, 3], [6, 5, 3]]\n"
     ]
    }
   ],
   "source": [
    "print(g.graph)"
   ]
  },
  {
   "cell_type": "markdown",
   "metadata": {},
   "source": [
    "## Call Kruscal's Algorithm to find MST"
   ]
  },
  {
   "cell_type": "code",
   "execution_count": 13,
   "metadata": {},
   "outputs": [
    {
     "name": "stdout",
     "output_type": "stream",
     "text": [
      "Following are the edges in the constructed MST\n",
      "D -- E == 2\n",
      "D -- F == 2\n",
      "A -- C == 3\n",
      "F -- G == 3\n",
      "A -- B == 4\n",
      "B -- D == 5\n",
      "Total Cost of MST == 19\n"
     ]
    }
   ],
   "source": [
    "g.KruskalMST()"
   ]
  },
  {
   "cell_type": "markdown",
   "metadata": {},
   "source": [
    "# Reading Input File-3(UnDirected) and Creating Adjacency Matrix"
   ]
  },
  {
   "cell_type": "code",
   "execution_count": 14,
   "metadata": {},
   "outputs": [],
   "source": [
    "file = open(\"Input_File_UnDir_2.rtf\", 'r')"
   ]
  },
  {
   "cell_type": "code",
   "execution_count": 15,
   "metadata": {},
   "outputs": [],
   "source": [
    "lines = file.readlines()"
   ]
  },
  {
   "cell_type": "code",
   "execution_count": 16,
   "metadata": {},
   "outputs": [],
   "source": [
    "g_size = int(lines[0][0].split()[0])\n",
    "g = Graph(g_size)"
   ]
  },
  {
   "cell_type": "code",
   "execution_count": 17,
   "metadata": {},
   "outputs": [],
   "source": [
    "for i in range(1,len(lines)):\n",
    "    line = lines[i]\n",
    "    i,j,val = line.split()\n",
    "    g.addEdge(ord(i.upper())-65,ord(j.upper())-65,int(val))\n",
    "    g.addEdge(ord(j.upper())-65,ord(i.upper())-65,int(val))"
   ]
  },
  {
   "cell_type": "code",
   "execution_count": 18,
   "metadata": {},
   "outputs": [
    {
     "name": "stdout",
     "output_type": "stream",
     "text": [
      "[[0, 1, 4], [1, 0, 4], [0, 7, 8], [7, 0, 8], [1, 2, 8], [2, 1, 8], [1, 7, 11], [7, 1, 11], [2, 3, 7], [3, 2, 7], [2, 5, 4], [5, 2, 4], [2, 8, 2], [8, 2, 2], [3, 4, 9], [4, 3, 9], [3, 5, 14], [5, 3, 14], [4, 5, 10], [5, 4, 10], [5, 6, 2], [6, 5, 2], [6, 7, 1], [7, 6, 1], [6, 8, 6], [8, 6, 6], [7, 8, 7], [8, 7, 7]]\n"
     ]
    }
   ],
   "source": [
    "print(g.graph)"
   ]
  },
  {
   "cell_type": "markdown",
   "metadata": {},
   "source": [
    "## Call Kruscal's Algorithm to find MST"
   ]
  },
  {
   "cell_type": "code",
   "execution_count": 19,
   "metadata": {},
   "outputs": [
    {
     "name": "stdout",
     "output_type": "stream",
     "text": [
      "Following are the edges in the constructed MST\n",
      "G -- H == 1\n",
      "C -- I == 2\n",
      "F -- G == 2\n",
      "A -- B == 4\n",
      "C -- F == 4\n",
      "C -- D == 7\n",
      "A -- H == 8\n",
      "D -- E == 9\n",
      "Total Cost of MST == 37\n"
     ]
    }
   ],
   "source": [
    "g.KruskalMST()"
   ]
  },
  {
   "cell_type": "markdown",
   "metadata": {},
   "source": [
    "# Reading Input File-4(UnDirected) and Creating Adjacency Matrix"
   ]
  },
  {
   "cell_type": "code",
   "execution_count": 20,
   "metadata": {},
   "outputs": [],
   "source": [
    "file = open(\"Input_File_UnDir_3.rtf\", 'r')"
   ]
  },
  {
   "cell_type": "code",
   "execution_count": 21,
   "metadata": {},
   "outputs": [],
   "source": [
    "lines = file.readlines()"
   ]
  },
  {
   "cell_type": "code",
   "execution_count": 22,
   "metadata": {},
   "outputs": [],
   "source": [
    "g_size = int(lines[0][0].split()[0])\n",
    "g = Graph(g_size)"
   ]
  },
  {
   "cell_type": "code",
   "execution_count": 23,
   "metadata": {},
   "outputs": [],
   "source": [
    "for i in range(1,len(lines)):\n",
    "    line = lines[i]\n",
    "    i,j,val = line.split()\n",
    "    g.addEdge(ord(i.upper())-65,ord(j.upper())-65,int(val))\n",
    "    g.addEdge(ord(j.upper())-65,ord(i.upper())-65,int(val))"
   ]
  },
  {
   "cell_type": "code",
   "execution_count": 24,
   "metadata": {},
   "outputs": [
    {
     "name": "stdout",
     "output_type": "stream",
     "text": [
      "[[0, 1, 1], [1, 0, 1], [0, 2, 3], [2, 0, 3], [0, 5, 10], [5, 0, 10], [1, 2, 1], [2, 1, 1], [1, 3, 7], [3, 1, 7], [1, 4, 5], [4, 1, 5], [1, 6, 2], [6, 1, 2], [2, 3, 9], [3, 2, 9], [2, 4, 3], [4, 2, 3], [3, 4, 2], [4, 3, 2], [3, 5, 1], [5, 3, 1], [4, 5, 2], [5, 4, 2]]\n"
     ]
    }
   ],
   "source": [
    "print(g.graph)"
   ]
  },
  {
   "cell_type": "code",
   "execution_count": 25,
   "metadata": {},
   "outputs": [
    {
     "name": "stdout",
     "output_type": "stream",
     "text": [
      "Following are the edges in the constructed MST\n",
      "A -- B == 1\n",
      "B -- C == 1\n",
      "D -- F == 1\n",
      "B -- G == 2\n",
      "D -- E == 2\n",
      "C -- E == 3\n",
      "Total Cost of MST == 10\n"
     ]
    }
   ],
   "source": [
    "g.KruskalMST()"
   ]
  }
 ],
 "metadata": {
  "kernelspec": {
   "display_name": "Python 3",
   "language": "python",
   "name": "python3"
  },
  "language_info": {
   "codemirror_mode": {
    "name": "ipython",
    "version": 3
   },
   "file_extension": ".py",
   "mimetype": "text/x-python",
   "name": "python",
   "nbconvert_exporter": "python",
   "pygments_lexer": "ipython3",
   "version": "3.7.3"
  }
 },
 "nbformat": 4,
 "nbformat_minor": 2
}
