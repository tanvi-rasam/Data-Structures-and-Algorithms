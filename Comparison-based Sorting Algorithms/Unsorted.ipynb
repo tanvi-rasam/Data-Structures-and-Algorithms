{
 "cells": [
  {
   "cell_type": "code",
   "execution_count": 183,
   "metadata": {},
   "outputs": [],
   "source": [
    "import numpy as np\n",
    "import time\n",
    "import math\n",
    "import random\n",
    "import matplotlib.pyplot as plt\n",
    "input_range=[1000,3000,7000,10000,25000,40000,50000]"
   ]
  },
  {
   "cell_type": "code",
   "execution_count": null,
   "metadata": {},
   "outputs": [],
   "source": [
    "final_time =np.zeros((5,7))#lgos vs input_range"
   ]
  },
  {
   "cell_type": "code",
   "execution_count": 176,
   "metadata": {},
   "outputs": [
    {
     "name": "stdout",
     "output_type": "stream",
     "text": [
      "[[1.51000e-01 1.05100e+00 5.78800e+00 1.29160e+01 8.17130e+01 2.02384e+02\n",
      "  3.20154e+02]\n",
      " [1.20000e-02 2.60000e-02 8.00000e-02 1.27000e-01 2.78000e-01 4.23000e-01\n",
      "  5.63000e-01]\n",
      " [1.70000e-02 4.50000e-02 2.22000e-01 1.96000e-01 3.96000e-01 7.65000e-01\n",
      "  1.00900e+00]\n",
      " [1.30000e-02 3.30000e-02 7.70000e-02 1.07000e-01 3.18000e-01 4.16000e-01\n",
      "  5.56000e-01]\n",
      " [3.50000e-02 2.17000e-01 9.53000e-01 1.63600e+00 1.19530e+01 2.94990e+01\n",
      "  4.50080e+01]]\n"
     ]
    }
   ],
   "source": [
    "#Q1 Insertion Sort\n",
    "\n",
    "def insertionSort(arr): \n",
    "  \n",
    "    # Traverse through 1 to len(arr) \n",
    "    for i in range(1, len(arr)): \n",
    "  \n",
    "        key = arr[i] \n",
    "        j = i-1\n",
    "        while j >=0 and key < arr[j] : \n",
    "            arr[j+1] = arr[j] \n",
    "            j -= 1\n",
    "        arr[j+1] = key \n",
    "\n",
    "\n",
    "avg_time = np.zeros((1,3))\n",
    "for i in range(len(input_range)):\n",
    "    for j in range(0,3,1):\n",
    "        np.random.seed(j)\n",
    "        input=np.random.randint(1,100000,input_range[i])\n",
    "        \n",
    "        start=time.time()\n",
    "        insertionSort(input)\n",
    "        end=time.time()\n",
    "        #print(end-start)\n",
    "        avg_time[0][j]=end-start\n",
    "        \n",
    "    final_time[0,i]=round(sum(avg_time[0])/3,3)\n",
    "    "
   ]
  },
  {
   "cell_type": "code",
   "execution_count": 174,
   "metadata": {},
   "outputs": [],
   "source": [
    "#Q2 Merge Sort\n",
    "\n",
    "def mergeSort(arr): \n",
    "    if len(arr) >1: \n",
    "        mid = len(arr)//2 #Finding the mid of the array \n",
    "        L = arr[:mid] # Dividing the array elements  \n",
    "        R = arr[mid:] # into 2 halves \n",
    "  \n",
    "        mergeSort(L) # Sorting the first half \n",
    "        mergeSort(R) # Sorting the second half \n",
    "  \n",
    "        i = j = k = 0\n",
    "          \n",
    "        # Copy data to temp arrays L[] and R[] \n",
    "        while i < len(L) and j < len(R): \n",
    "            if L[i] < R[j]: \n",
    "                arr[k] = L[i] \n",
    "                i+=1\n",
    "            else: \n",
    "                arr[k] = R[j] \n",
    "                j+=1\n",
    "            k+=1\n",
    "          \n",
    "        # Checking if any element was left \n",
    "        while i < len(L): \n",
    "            arr[k] = L[i] \n",
    "            i+=1\n",
    "            k+=1\n",
    "          \n",
    "        while j < len(R): \n",
    "            arr[k] = R[j] \n",
    "            j+=1\n",
    "            k+=1\n",
    "            \n",
    "\n",
    "avg_time = np.zeros((1,3))\n",
    "for i in range(len(input_range)):\n",
    "    for j in range(0,3,1):\n",
    "        np.random.seed(j)\n",
    "        input=np.random.randint(1,100000,input_range[i])\n",
    "        \n",
    "        start=time.time()\n",
    "        mergeSort(input)\n",
    "        end=time.time()\n",
    "        #print(end-start)\n",
    "        avg_time[0][j]=end-start\n",
    "        \n",
    "    final_time[1,i]=round(sum(avg_time[0])/3,3)"
   ]
  },
  {
   "cell_type": "code",
   "execution_count": 172,
   "metadata": {},
   "outputs": [],
   "source": [
    "#Q3 Heapsort [vector based]\n",
    "\n",
    "def heap_insert(input,a): \n",
    "\tfor j in range(len(input)):\n",
    "            a.append(input[j])\n",
    "            n=len(a)\n",
    "            i=math.ceil(n/2)-1\n",
    "            while i>0:\n",
    "                largest = i\n",
    "                \n",
    "                l = 2 * i \t # left = 2*i + 1 \n",
    "                r = 2 * i + 1\t # right = 2*i + 2 \n",
    "                if l < n and a[i] < a[l]: \n",
    "                    largest = l\n",
    "                    \n",
    "                if r < n and a[largest] < a[r]: \n",
    "                    largest = r\n",
    "                    \n",
    "                \n",
    "                if largest != i:\n",
    "                    a[i],a[largest] = a[largest],a[i] # swap\n",
    "                    i=math.ceil((i+1)/2)-1\n",
    "                else:\n",
    "                    break\n",
    "            #print(a)\n",
    "\n",
    "def heapSort(a): \n",
    "        n = len(a) \n",
    "        #set_trace()\n",
    "        for j in range(n-1, 1, -1): \n",
    "            a[j], a[1] = a[1], a[j]\n",
    "            i=1\n",
    "            n=j\n",
    "            largest = i\n",
    "            #print(j,a)\n",
    "            #pdb.set_trace()\n",
    "            while True:\n",
    "                #s=0\n",
    "                #largest = i\n",
    "                l = 2 * i \t # left = 2*i \n",
    "                r = 2 * i + 1\t # right = 2*i + 1 \n",
    "                if l < n and a[i] < a[l]: \n",
    "                    largest = l\n",
    "                    \n",
    "                if r < n and a[largest] < a[r]: \n",
    "                    largest = r\n",
    "                    \n",
    "                if largest != i: \n",
    "                    a[i],a[largest] = a[largest],a[i]\n",
    "                    i=largest\n",
    "                else:\n",
    "                    break\n",
    "            #print(n,a)\n",
    "            \n",
    "a=[0]\n",
    "avg_time = np.zeros((1,3))\n",
    "for i in range(len(input_range)):\n",
    "    for j in range(0,3,1):\n",
    "        np.random.seed(j)\n",
    "        input=np.random.randint(1,100000,input_range[i])\n",
    "        \n",
    "        start=time.time()\n",
    "        heap_insert(input,a) \n",
    "        heapSort(a) \n",
    "        end=time.time()\n",
    "       \n",
    "        avg_time[0][j]=end-start\n",
    "        \n",
    "    final_time[2,i]=round(sum(avg_time[0])/3,3)\n",
    "\n",
    "\n"
   ]
  },
  {
   "cell_type": "code",
   "execution_count": 169,
   "metadata": {},
   "outputs": [],
   "source": [
    "#Q4 In Place quicksort\n",
    "\n",
    "def sub_partition(array, start, end, idx_pivot):\n",
    "\n",
    "    'returns the position where the pivot winds up'\n",
    "\n",
    "    if not (start <= idx_pivot <= end):\n",
    "        raise ValueError('idx pivot must be between start and end')\n",
    "\n",
    "    array[start], array[idx_pivot] = array[idx_pivot], array[start]\n",
    "    pivot = array[start]\n",
    "    i = start + 1\n",
    "    j = start + 1\n",
    "\n",
    "    while j <= end:\n",
    "        if array[j] <= pivot:\n",
    "            array[j], array[i] = array[i], array[j]\n",
    "            i += 1\n",
    "        j += 1\n",
    "\n",
    "    array[start], array[i - 1] = array[i - 1], array[start]\n",
    "    return i - 1\n",
    "\n",
    "def quicksort(array, start=0, end=None):\n",
    "\n",
    "    if end is None:\n",
    "        end = len(array) - 1\n",
    "\n",
    "    if end - start < 1:\n",
    "        return\n",
    "\n",
    "    idx_pivot = random.randint(start, end)\n",
    "    i = sub_partition(array, start, end, idx_pivot)\n",
    "    #print array, i, idx_pivot\n",
    "    quicksort(array, start, i - 1)\n",
    "    quicksort(array, i + 1, end)\n",
    "\n",
    "avg_time = np.zeros((1,3))\n",
    "for i in range(len(input_range)):\n",
    "    for j in range(0,3,1):\n",
    "        np.random.seed(j)\n",
    "        input=np.random.randint(1,100000,input_range[i])\n",
    "        n = len(input) \n",
    "        \n",
    "        start=time.time()\n",
    "        quicksort(input,0,n-1)\n",
    "        end=time.time()\n",
    "        #print(end-start)\n",
    "        avg_time[0][j]=end-start\n",
    "        \n",
    "    final_time[3,i]=round(sum(avg_time[0])/3,3)    \n"
   ]
  },
  {
   "cell_type": "code",
   "execution_count": 167,
   "metadata": {},
   "outputs": [],
   "source": [
    "#Q5 Modified quicksort\n",
    "\n",
    "CUTOFF = 10\n",
    "\n",
    "def quicksort(a, low, high ):\n",
    "        #set_trace()\n",
    "        if low + CUTOFF > high :\n",
    "            insertionSort( a, low, high )\n",
    "        else:\n",
    "            # Sort low, middle, high\n",
    "            middle = int(( low + high ) / 2);\n",
    "            if a[middle]< a[low]:\n",
    "                swapReferences( a, low, middle )\n",
    "            if a[high]< a[low]:\n",
    "                swapReferences( a, low, high )\n",
    "            if a[high]<a[ middle]: \n",
    "                swapReferences( a, middle, high )\n",
    "             \n",
    "            # Place pivot at position high - 1\n",
    "            swapReferences( a, middle, high - 1 )\n",
    "            pivot = a[ high - 1 ];\n",
    "             \n",
    "            # Begin partitioning\n",
    "            j= high - 1;\n",
    "            for i in range(low , high-1):   \n",
    "                while a[i] < pivot:\n",
    "                    i=i+1\n",
    "                while pivot <= a[j] :\n",
    "                    j=j-1\n",
    "                    \n",
    "                if( i >= j ):\n",
    "                    break;\n",
    "                swapReferences( a, i, j )\n",
    "                \n",
    "            # Restore pivot\n",
    "            swapReferences( a, i, high - 1 )\n",
    "             \n",
    "            quicksort( a, low, i - 1 )   # Sort small elements\n",
    "            quicksort( a, i + 1, high )  # Sort large elements\n",
    "\n",
    "def swapReferences(a, index1, index2 ):\n",
    "        #set_trace()\n",
    "        temp = a[index1];\n",
    "        a[index1] = a[index2];\n",
    "        a[index2] = temp;\n",
    "        #print(a)\n",
    "        \n",
    "def insertionSort(arr, low, high): \n",
    "    #set_trace()\n",
    "  \n",
    "    # Traverse through 1 to len(arr) \n",
    "    for i in range(low + 1, high + 1): \n",
    "  \n",
    "        key = arr[i] \n",
    "  \n",
    "        j = i-1\n",
    "        while j >=0 and key < arr[j] : \n",
    "            arr[j+1] = arr[j] \n",
    "            j -= 1\n",
    "        arr[j+1] = key  \n",
    "\n",
    "avg_time = np.zeros((1,3))\n",
    "for i in range(len(input_range)):\n",
    "    for j in range(0,3,1):\n",
    "        np.random.seed(j)\n",
    "        input=np.random.randint(1,100000,input_range[i]) \n",
    "        n = len(input) \n",
    "        \n",
    "        start=time.time()\n",
    "        quicksort(input,0,n-1)\n",
    "        end=time.time()\n",
    "        #print(end-start)\n",
    "        avg_time[0][j]=end-start\n",
    "        \n",
    "    final_time[4,i]=round(sum(avg_time[0])/3,3)    \n",
    "    \n"
   ]
  },
  {
   "cell_type": "code",
   "execution_count": 178,
   "metadata": {},
   "outputs": [
    {
     "name": "stdout",
     "output_type": "stream",
     "text": [
      "[[1.51000e-01 1.05100e+00 5.78800e+00 1.29160e+01 8.17130e+01 2.02384e+02\n",
      "  3.20154e+02]\n",
      " [1.20000e-02 2.60000e-02 8.00000e-02 1.27000e-01 2.78000e-01 4.23000e-01\n",
      "  5.63000e-01]\n",
      " [1.70000e-02 4.50000e-02 2.22000e-01 1.96000e-01 3.96000e-01 7.65000e-01\n",
      "  1.00900e+00]\n",
      " [1.30000e-02 3.30000e-02 7.70000e-02 1.07000e-01 3.18000e-01 4.16000e-01\n",
      "  5.56000e-01]\n",
      " [3.50000e-02 2.17000e-01 9.53000e-01 1.63600e+00 1.19530e+01 2.94990e+01\n",
      "  4.50080e+01]]\n"
     ]
    }
   ],
   "source": [
    "print(final_time)"
   ]
  },
  {
   "cell_type": "code",
   "execution_count": 191,
   "metadata": {},
   "outputs": [],
   "source": [
    "insertion_list = final_time[0].tolist()\n",
    "merge_list = final_time[1].tolist()\n",
    "heap_list = final_time[2].tolist()\n",
    "in_place_quick_list = final_time[3].tolist()\n",
    "modified_quick_list = final_time[4].tolist()"
   ]
  },
  {
   "cell_type": "code",
   "execution_count": 192,
   "metadata": {},
   "outputs": [],
   "source": [
    "insertion = np.array(insertion_list)\n",
    "merge = np.array(merge_list)\n",
    "heap = np.array(heap_list)\n",
    "in_place_quick = np.array(in_place_quick_list)\n",
    "modified_quick = np.array(modified_quick_list)"
   ]
  },
  {
   "cell_type": "code",
   "execution_count": 200,
   "metadata": {},
   "outputs": [
    {
     "data": {
      "text/plain": [
       "([<matplotlib.axis.XTick at 0x1a6e4c86eb8>,\n",
       "  <matplotlib.axis.XTick at 0x1a6e4d30198>,\n",
       "  <matplotlib.axis.XTick at 0x1a6e4d3ae48>,\n",
       "  <matplotlib.axis.XTick at 0x1a6e4bfb5f8>,\n",
       "  <matplotlib.axis.XTick at 0x1a6e4bfb438>,\n",
       "  <matplotlib.axis.XTick at 0x1a6e4bfbba8>,\n",
       "  <matplotlib.axis.XTick at 0x1a6e4c6fc88>],\n",
       " <a list of 7 Text xticklabel objects>)"
      ]
     },
     "execution_count": 200,
     "metadata": {},
     "output_type": "execute_result"
    },
    {
     "data": {
      "image/png": "[encoded data removed]",
      "text/plain": [
       "<Figure size 432x288 with 1 Axes>"
      ]
     },
     "metadata": {
      "needs_background": "light"
     },
     "output_type": "display_data"
    }
   ],
   "source": [
    "plt.plot(input_range,insertion,color='c',label='Insertion Sort')\n",
    "plt.plot(input_range,final_time[1],color='r',label='Merge Sort')\n",
    "plt.plot(input_range,final_time[2],color='b',label='Heap Sort')\n",
    "plt.plot(input_range,final_time[3],color='g',label='In Place Quick Sort')\n",
    "plt.plot(input_range,final_time[4],color='y',label='Modified Quick Sort')\n",
    "plt.title('Execution time vs Input Range')\n",
    "plt.xlabel('Input Range')\n",
    "plt.ylabel('Execution time in seconds')\n",
    "plt.legend(['Insertion','Merge','Heap','In Place Quick','Modified Quick'])\n",
    "plt.xticks(input_range,rotation='vertical')"
   ]
  },
  {
   "cell_type": "code",
   "execution_count": 203,
   "metadata": {},
   "outputs": [
    {
     "data": {
      "text/plain": [
       "([<matplotlib.axis.XTick at 0x1a6e1a95240>,\n",
       "  <matplotlib.axis.XTick at 0x1a6e499f4e0>,\n",
       "  <matplotlib.axis.XTick at 0x1a6e499f320>,\n",
       "  <matplotlib.axis.XTick at 0x1a6e49976a0>,\n",
       "  <matplotlib.axis.XTick at 0x1a6e4d304a8>,\n",
       "  <matplotlib.axis.XTick at 0x1a6e4d30a58>,\n",
       "  <matplotlib.axis.XTick at 0x1a6e4d30e80>],\n",
       " <a list of 7 Text xticklabel objects>)"
      ]
     },
     "execution_count": 203,
     "metadata": {},
     "output_type": "execute_result"
    },
    {
     "data": {
      "image/png": "[encoded data removed]",
      "text/plain": [
       "<Figure size 432x288 with 1 Axes>"
      ]
     },
     "metadata": {
      "needs_background": "light"
     },
     "output_type": "display_data"
    }
   ],
   "source": [
    "plt.plot(input_range,final_time[1],color='r',label='Merge Sort')\n",
    "plt.plot(input_range,final_time[2],color='b',label='Heap Sort')\n",
    "plt.plot(input_range,final_time[3],color='g',label='In Place Quick Sort')\n",
    "plt.title('Execution time vs Input Range')\n",
    "plt.xlabel('Input Range')\n",
    "plt.ylabel('Execution time in seconds')\n",
    "plt.legend(['Merge','Heap','In Place Quick'])\n",
    "plt.xticks(input_range,rotation='vertical')"
   ]
  },
  {
   "cell_type": "code",
   "execution_count": null,
   "metadata": {},
   "outputs": [],
   "source": []
  }
 ],
 "metadata": {
  "kernelspec": {
   "display_name": "Python 3",
   "language": "python",
   "name": "python3"
  },
  "language_info": {
   "codemirror_mode": {
    "name": "ipython",
    "version": 3
   },
   "file_extension": ".py",
   "mimetype": "text/x-python",
   "name": "python",
   "nbconvert_exporter": "python",
   "pygments_lexer": "ipython3",
   "version": "3.7.3"
  }
 },
 "nbformat": 4,
 "nbformat_minor": 4
}
